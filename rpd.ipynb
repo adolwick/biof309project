{
 "cells": [
  {
   "cell_type": "code",
   "execution_count": 1,
   "id": "e4168cad-9b62-448d-b927-fc14424d311a",
   "metadata": {
    "tags": []
   },
   "outputs": [
    {
     "name": "stderr",
     "output_type": "stream",
     "text": [
      "── \u001b[1mAttaching core tidyverse packages\u001b[22m ──────────────────────── tidyverse 2.0.0 ──\n",
      "\u001b[32m✔\u001b[39m \u001b[34mdplyr    \u001b[39m 1.1.2     \u001b[32m✔\u001b[39m \u001b[34mreadr    \u001b[39m 2.1.4\n",
      "\u001b[32m✔\u001b[39m \u001b[34mforcats  \u001b[39m 1.0.0     \u001b[32m✔\u001b[39m \u001b[34mstringr  \u001b[39m 1.5.0\n",
      "\u001b[32m✔\u001b[39m \u001b[34mggplot2  \u001b[39m 3.4.2     \u001b[32m✔\u001b[39m \u001b[34mtibble   \u001b[39m 3.2.1\n",
      "\u001b[32m✔\u001b[39m \u001b[34mlubridate\u001b[39m 1.9.2     \u001b[32m✔\u001b[39m \u001b[34mtidyr    \u001b[39m 1.3.0\n",
      "\u001b[32m✔\u001b[39m \u001b[34mpurrr    \u001b[39m 1.0.1     \n",
      "── \u001b[1mConflicts\u001b[22m ────────────────────────────────────────── tidyverse_conflicts() ──\n",
      "\u001b[31m✖\u001b[39m \u001b[34mdplyr\u001b[39m::\u001b[32mfilter()\u001b[39m masks \u001b[34mstats\u001b[39m::filter()\n",
      "\u001b[31m✖\u001b[39m \u001b[34mdplyr\u001b[39m::\u001b[32mlag()\u001b[39m    masks \u001b[34mstats\u001b[39m::lag()\n",
      "\u001b[36mℹ\u001b[39m Use the conflicted package (\u001b[3m\u001b[34m<http://conflicted.r-lib.org/>\u001b[39m\u001b[23m) to force all conflicts to become errors\n"
     ]
    }
   ],
   "source": [
    "library('tidyverse')\n",
    "library('lubridate')"
   ]
  },
  {
   "cell_type": "code",
   "execution_count": 2,
   "id": "eb376715-3899-413d-8558-4fab8dcc0b73",
   "metadata": {
    "tags": []
   },
   "outputs": [
    {
     "name": "stderr",
     "output_type": "stream",
     "text": [
      "\u001b[1mRows: \u001b[22m\u001b[34m3289\u001b[39m \u001b[1mColumns: \u001b[22m\u001b[34m4\u001b[39m\n",
      "\u001b[36m──\u001b[39m \u001b[1mColumn specification\u001b[22m \u001b[36m────────────────────────────────────────────────────────\u001b[39m\n",
      "\u001b[1mDelimiter:\u001b[22m \",\"\n",
      "\u001b[31mchr\u001b[39m  (1): time_corr\n",
      "\u001b[32mdbl\u001b[39m  (2): Mileage, pace_min\n",
      "\u001b[34mdate\u001b[39m (1): Date\n",
      "\n",
      "\u001b[36mℹ\u001b[39m Use `spec()` to retrieve the full column specification for this data.\n",
      "\u001b[36mℹ\u001b[39m Specify the column types or set `show_col_types = FALSE` to quiet this message.\n"
     ]
    }
   ],
   "source": [
    "rpd <- read_csv(\"clean.csv\")"
   ]
  },
  {
   "cell_type": "code",
   "execution_count": 3,
   "id": "9d19f810-4b4c-48c2-90e6-7d01d2ebd772",
   "metadata": {
    "tags": []
   },
   "outputs": [],
   "source": [
    "rpd2 <- rpd %>% \n",
    "    mutate(Year=year(Date)) %>%\n",
    "    mutate(Month=month(Date)) %>%\n",
    "    mutate(Day=day(Date)) %>%\n",
    "    mutate(month.day=paste(Month, \"/\", Day, sep=\"\"))"
   ]
  },
  {
   "cell_type": "code",
   "execution_count": 4,
   "id": "45ed5b71-d56e-4e97-9a71-948792f744c0",
   "metadata": {
    "tags": []
   },
   "outputs": [],
   "source": [
    "rpd3 <- rpd2 %>%\n",
    "    group_by(month.day) %>%\n",
    "    mutate(numRun=row_number(),\n",
    "           highest=ifelse(numRun==max(numRun),1,0)) %>%\n",
    "    arrange(Month, Day) %>%\n",
    "    ungroup()"
   ]
  },
  {
   "cell_type": "code",
   "execution_count": 5,
   "id": "1e919bed-d956-4db1-8944-4feaecf1c231",
   "metadata": {
    "tags": []
   },
   "outputs": [],
   "source": [
    "rpd4 <- rpd3 %>%\n",
    "    group_by(Date) %>%\n",
    "    mutate(rpd=row_number(),\n",
    "           firstRun=ifelse(rpd==1,1,0)) %>%\n",
    "    ungroup()"
   ]
  },
  {
   "cell_type": "code",
   "execution_count": 6,
   "id": "7078760f-8cea-45b1-942a-76dd93c7b4b4",
   "metadata": {
    "tags": []
   },
   "outputs": [
    {
     "data": {
      "text/html": [
       "<table class=\"dataframe\">\n",
       "<caption>A tibble: 6 × 13</caption>\n",
       "<thead>\n",
       "\t<tr><th scope=col>Date</th><th scope=col>Mileage</th><th scope=col>time_corr</th><th scope=col>pace_min</th><th scope=col>Year</th><th scope=col>Month</th><th scope=col>Day</th><th scope=col>month.day</th><th scope=col>numRun</th><th scope=col>highest</th><th scope=col>rpd</th><th scope=col>firstRun</th><th scope=col>numYear</th></tr>\n",
       "\t<tr><th scope=col>&lt;date&gt;</th><th scope=col>&lt;dbl&gt;</th><th scope=col>&lt;chr&gt;</th><th scope=col>&lt;dbl&gt;</th><th scope=col>&lt;dbl&gt;</th><th scope=col>&lt;dbl&gt;</th><th scope=col>&lt;int&gt;</th><th scope=col>&lt;chr&gt;</th><th scope=col>&lt;int&gt;</th><th scope=col>&lt;dbl&gt;</th><th scope=col>&lt;int&gt;</th><th scope=col>&lt;dbl&gt;</th><th scope=col>&lt;int&gt;</th></tr>\n",
       "</thead>\n",
       "<tbody>\n",
       "\t<tr><td>2020-12-30</td><td>7.50</td><td>0:52:15</td><td>6.966667</td><td>2020</td><td>12</td><td>30</td><td>12/30</td><td>8</td><td>0</td><td>1</td><td>1</td><td>8</td></tr>\n",
       "\t<tr><td>2022-12-30</td><td>5.00</td><td>0:40:26</td><td>8.086667</td><td>2022</td><td>12</td><td>30</td><td>12/30</td><td>9</td><td>1</td><td>1</td><td>1</td><td>9</td></tr>\n",
       "\t<tr><td>2015-12-31</td><td>5.55</td><td>0:38:47</td><td>6.987988</td><td>2015</td><td>12</td><td>31</td><td>12/31</td><td>1</td><td>0</td><td>1</td><td>1</td><td>1</td></tr>\n",
       "\t<tr><td>2016-12-31</td><td>5.37</td><td>0:42:46</td><td>7.963998</td><td>2016</td><td>12</td><td>31</td><td>12/31</td><td>2</td><td>0</td><td>1</td><td>1</td><td>2</td></tr>\n",
       "\t<tr><td>2017-12-31</td><td>7.00</td><td>0:51:16</td><td>7.323810</td><td>2017</td><td>12</td><td>31</td><td>12/31</td><td>3</td><td>0</td><td>1</td><td>1</td><td>3</td></tr>\n",
       "\t<tr><td>2020-12-31</td><td>6.00</td><td>0:44:49</td><td>7.469444</td><td>2020</td><td>12</td><td>31</td><td>12/31</td><td>4</td><td>1</td><td>1</td><td>1</td><td>4</td></tr>\n",
       "</tbody>\n",
       "</table>\n"
      ],
      "text/latex": [
       "A tibble: 6 × 13\n",
       "\\begin{tabular}{lllllllllllll}\n",
       " Date & Mileage & time\\_corr & pace\\_min & Year & Month & Day & month.day & numRun & highest & rpd & firstRun & numYear\\\\\n",
       " <date> & <dbl> & <chr> & <dbl> & <dbl> & <dbl> & <int> & <chr> & <int> & <dbl> & <int> & <dbl> & <int>\\\\\n",
       "\\hline\n",
       "\t 2020-12-30 & 7.50 & 0:52:15 & 6.966667 & 2020 & 12 & 30 & 12/30 & 8 & 0 & 1 & 1 & 8\\\\\n",
       "\t 2022-12-30 & 5.00 & 0:40:26 & 8.086667 & 2022 & 12 & 30 & 12/30 & 9 & 1 & 1 & 1 & 9\\\\\n",
       "\t 2015-12-31 & 5.55 & 0:38:47 & 6.987988 & 2015 & 12 & 31 & 12/31 & 1 & 0 & 1 & 1 & 1\\\\\n",
       "\t 2016-12-31 & 5.37 & 0:42:46 & 7.963998 & 2016 & 12 & 31 & 12/31 & 2 & 0 & 1 & 1 & 2\\\\\n",
       "\t 2017-12-31 & 7.00 & 0:51:16 & 7.323810 & 2017 & 12 & 31 & 12/31 & 3 & 0 & 1 & 1 & 3\\\\\n",
       "\t 2020-12-31 & 6.00 & 0:44:49 & 7.469444 & 2020 & 12 & 31 & 12/31 & 4 & 1 & 1 & 1 & 4\\\\\n",
       "\\end{tabular}\n"
      ],
      "text/markdown": [
       "\n",
       "A tibble: 6 × 13\n",
       "\n",
       "| Date &lt;date&gt; | Mileage &lt;dbl&gt; | time_corr &lt;chr&gt; | pace_min &lt;dbl&gt; | Year &lt;dbl&gt; | Month &lt;dbl&gt; | Day &lt;int&gt; | month.day &lt;chr&gt; | numRun &lt;int&gt; | highest &lt;dbl&gt; | rpd &lt;int&gt; | firstRun &lt;dbl&gt; | numYear &lt;int&gt; |\n",
       "|---|---|---|---|---|---|---|---|---|---|---|---|---|\n",
       "| 2020-12-30 | 7.50 | 0:52:15 | 6.966667 | 2020 | 12 | 30 | 12/30 | 8 | 0 | 1 | 1 | 8 |\n",
       "| 2022-12-30 | 5.00 | 0:40:26 | 8.086667 | 2022 | 12 | 30 | 12/30 | 9 | 1 | 1 | 1 | 9 |\n",
       "| 2015-12-31 | 5.55 | 0:38:47 | 6.987988 | 2015 | 12 | 31 | 12/31 | 1 | 0 | 1 | 1 | 1 |\n",
       "| 2016-12-31 | 5.37 | 0:42:46 | 7.963998 | 2016 | 12 | 31 | 12/31 | 2 | 0 | 1 | 1 | 2 |\n",
       "| 2017-12-31 | 7.00 | 0:51:16 | 7.323810 | 2017 | 12 | 31 | 12/31 | 3 | 0 | 1 | 1 | 3 |\n",
       "| 2020-12-31 | 6.00 | 0:44:49 | 7.469444 | 2020 | 12 | 31 | 12/31 | 4 | 1 | 1 | 1 | 4 |\n",
       "\n"
      ],
      "text/plain": [
       "  Date       Mileage time_corr pace_min Year Month Day month.day numRun highest\n",
       "1 2020-12-30 7.50    0:52:15   6.966667 2020 12    30  12/30     8      0      \n",
       "2 2022-12-30 5.00    0:40:26   8.086667 2022 12    30  12/30     9      1      \n",
       "3 2015-12-31 5.55    0:38:47   6.987988 2015 12    31  12/31     1      0      \n",
       "4 2016-12-31 5.37    0:42:46   7.963998 2016 12    31  12/31     2      0      \n",
       "5 2017-12-31 7.00    0:51:16   7.323810 2017 12    31  12/31     3      0      \n",
       "6 2020-12-31 6.00    0:44:49   7.469444 2020 12    31  12/31     4      1      \n",
       "  rpd firstRun numYear\n",
       "1 1   1        8      \n",
       "2 1   1        9      \n",
       "3 1   1        1      \n",
       "4 1   1        2      \n",
       "5 1   1        3      \n",
       "6 1   1        4      "
      ]
     },
     "metadata": {},
     "output_type": "display_data"
    }
   ],
   "source": [
    "rpd4a <- rpd4 %>% \n",
    "    filter(firstRun==1) %>%\n",
    "    group_by(month.day) %>%\n",
    "    mutate(numYear=row_number()) %>%\n",
    "    ungroup()\n",
    "tail(rpd4a)"
   ]
  },
  {
   "cell_type": "code",
   "execution_count": 7,
   "id": "332d20f7-6b8c-46f9-8733-7e935d20dab6",
   "metadata": {
    "tags": []
   },
   "outputs": [],
   "source": [
    "rpd4b <- rpd4 %>%\n",
    "    filter(firstRun==0) %>%\n",
    "    mutate(numYear=NA)"
   ]
  },
  {
   "cell_type": "code",
   "execution_count": 8,
   "id": "4587cfed-8299-4fed-85e4-d4868ab648ff",
   "metadata": {
    "tags": []
   },
   "outputs": [],
   "source": [
    "rpd5 <- rbind(rpd4a,rpd4b) %>%\n",
    "    arrange(Month,Day,Date,rpd)"
   ]
  },
  {
   "cell_type": "code",
   "execution_count": 9,
   "id": "95dbf0b0-6709-4a63-be02-9fc8802bcb25",
   "metadata": {
    "tags": []
   },
   "outputs": [
    {
     "data": {
      "text/html": [
       "<table class=\"dataframe\">\n",
       "<caption>A tibble: 14 × 13</caption>\n",
       "<thead>\n",
       "\t<tr><th scope=col>Date</th><th scope=col>Mileage</th><th scope=col>time_corr</th><th scope=col>pace_min</th><th scope=col>Year</th><th scope=col>Month</th><th scope=col>Day</th><th scope=col>month.day</th><th scope=col>numRun</th><th scope=col>highest</th><th scope=col>rpd</th><th scope=col>firstRun</th><th scope=col>numYear</th></tr>\n",
       "\t<tr><th scope=col>&lt;date&gt;</th><th scope=col>&lt;dbl&gt;</th><th scope=col>&lt;chr&gt;</th><th scope=col>&lt;dbl&gt;</th><th scope=col>&lt;dbl&gt;</th><th scope=col>&lt;dbl&gt;</th><th scope=col>&lt;int&gt;</th><th scope=col>&lt;chr&gt;</th><th scope=col>&lt;int&gt;</th><th scope=col>&lt;dbl&gt;</th><th scope=col>&lt;int&gt;</th><th scope=col>&lt;dbl&gt;</th><th scope=col>&lt;int&gt;</th></tr>\n",
       "</thead>\n",
       "<tbody>\n",
       "\t<tr><td>2010-10-02</td><td> 3.10</td><td>0:19:39</td><td>6.338710</td><td>2010</td><td>10</td><td>2</td><td>10/2</td><td> 1</td><td>0</td><td>1</td><td>1</td><td> 1</td></tr>\n",
       "\t<tr><td>2011-10-02</td><td> 4.26</td><td>0:29:57</td><td>7.030516</td><td>2011</td><td>10</td><td>2</td><td>10/2</td><td> 2</td><td>0</td><td>1</td><td>1</td><td> 2</td></tr>\n",
       "\t<tr><td>2012-10-02</td><td> 3.10</td><td>0:18:35</td><td>5.994624</td><td>2012</td><td>10</td><td>2</td><td>10/2</td><td> 3</td><td>0</td><td>1</td><td>1</td><td> 3</td></tr>\n",
       "\t<tr><td>2013-10-02</td><td> 7.56</td><td>0:54:42</td><td>7.235450</td><td>2013</td><td>10</td><td>2</td><td>10/2</td><td> 4</td><td>0</td><td>1</td><td>1</td><td> 4</td></tr>\n",
       "\t<tr><td>2014-10-02</td><td> 3.10</td><td>0:18:18</td><td>5.903226</td><td>2014</td><td>10</td><td>2</td><td>10/2</td><td> 5</td><td>0</td><td>1</td><td>1</td><td> 5</td></tr>\n",
       "\t<tr><td>2015-10-02</td><td> 3.51</td><td>0:25:00</td><td>7.122507</td><td>2015</td><td>10</td><td>2</td><td>10/2</td><td> 6</td><td>0</td><td>1</td><td>1</td><td> 6</td></tr>\n",
       "\t<tr><td>2016-10-02</td><td>14.07</td><td>1:44:56</td><td>7.457948</td><td>2016</td><td>10</td><td>2</td><td>10/2</td><td> 7</td><td>0</td><td>1</td><td>1</td><td> 7</td></tr>\n",
       "\t<tr><td>2017-10-02</td><td> 8.00</td><td>0:59:52</td><td>7.483333</td><td>2017</td><td>10</td><td>2</td><td>10/2</td><td> 8</td><td>0</td><td>1</td><td>1</td><td> 8</td></tr>\n",
       "\t<tr><td>2018-10-02</td><td> 4.00</td><td>0:28:06</td><td>7.025000</td><td>2018</td><td>10</td><td>2</td><td>10/2</td><td> 9</td><td>0</td><td>1</td><td>1</td><td> 9</td></tr>\n",
       "\t<tr><td>2018-10-02</td><td>12.00</td><td>NA     </td><td>      NA</td><td>2018</td><td>10</td><td>2</td><td>10/2</td><td>10</td><td>0</td><td>2</td><td>0</td><td>NA</td></tr>\n",
       "\t<tr><td>2019-10-02</td><td> 9.51</td><td>NA     </td><td>      NA</td><td>2019</td><td>10</td><td>2</td><td>10/2</td><td>11</td><td>0</td><td>1</td><td>1</td><td>10</td></tr>\n",
       "\t<tr><td>2020-10-02</td><td> 9.31</td><td>1:08:15</td><td>7.330827</td><td>2020</td><td>10</td><td>2</td><td>10/2</td><td>12</td><td>0</td><td>1</td><td>1</td><td>11</td></tr>\n",
       "\t<tr><td>2021-10-02</td><td>13.11</td><td>1:16:48</td><td>5.858124</td><td>2021</td><td>10</td><td>2</td><td>10/2</td><td>13</td><td>0</td><td>1</td><td>1</td><td>12</td></tr>\n",
       "\t<tr><td>2021-10-02</td><td> 3.00</td><td>NA     </td><td>      NA</td><td>2021</td><td>10</td><td>2</td><td>10/2</td><td>14</td><td>1</td><td>2</td><td>0</td><td>NA</td></tr>\n",
       "</tbody>\n",
       "</table>\n"
      ],
      "text/latex": [
       "A tibble: 14 × 13\n",
       "\\begin{tabular}{lllllllllllll}\n",
       " Date & Mileage & time\\_corr & pace\\_min & Year & Month & Day & month.day & numRun & highest & rpd & firstRun & numYear\\\\\n",
       " <date> & <dbl> & <chr> & <dbl> & <dbl> & <dbl> & <int> & <chr> & <int> & <dbl> & <int> & <dbl> & <int>\\\\\n",
       "\\hline\n",
       "\t 2010-10-02 &  3.10 & 0:19:39 & 6.338710 & 2010 & 10 & 2 & 10/2 &  1 & 0 & 1 & 1 &  1\\\\\n",
       "\t 2011-10-02 &  4.26 & 0:29:57 & 7.030516 & 2011 & 10 & 2 & 10/2 &  2 & 0 & 1 & 1 &  2\\\\\n",
       "\t 2012-10-02 &  3.10 & 0:18:35 & 5.994624 & 2012 & 10 & 2 & 10/2 &  3 & 0 & 1 & 1 &  3\\\\\n",
       "\t 2013-10-02 &  7.56 & 0:54:42 & 7.235450 & 2013 & 10 & 2 & 10/2 &  4 & 0 & 1 & 1 &  4\\\\\n",
       "\t 2014-10-02 &  3.10 & 0:18:18 & 5.903226 & 2014 & 10 & 2 & 10/2 &  5 & 0 & 1 & 1 &  5\\\\\n",
       "\t 2015-10-02 &  3.51 & 0:25:00 & 7.122507 & 2015 & 10 & 2 & 10/2 &  6 & 0 & 1 & 1 &  6\\\\\n",
       "\t 2016-10-02 & 14.07 & 1:44:56 & 7.457948 & 2016 & 10 & 2 & 10/2 &  7 & 0 & 1 & 1 &  7\\\\\n",
       "\t 2017-10-02 &  8.00 & 0:59:52 & 7.483333 & 2017 & 10 & 2 & 10/2 &  8 & 0 & 1 & 1 &  8\\\\\n",
       "\t 2018-10-02 &  4.00 & 0:28:06 & 7.025000 & 2018 & 10 & 2 & 10/2 &  9 & 0 & 1 & 1 &  9\\\\\n",
       "\t 2018-10-02 & 12.00 & NA      &       NA & 2018 & 10 & 2 & 10/2 & 10 & 0 & 2 & 0 & NA\\\\\n",
       "\t 2019-10-02 &  9.51 & NA      &       NA & 2019 & 10 & 2 & 10/2 & 11 & 0 & 1 & 1 & 10\\\\\n",
       "\t 2020-10-02 &  9.31 & 1:08:15 & 7.330827 & 2020 & 10 & 2 & 10/2 & 12 & 0 & 1 & 1 & 11\\\\\n",
       "\t 2021-10-02 & 13.11 & 1:16:48 & 5.858124 & 2021 & 10 & 2 & 10/2 & 13 & 0 & 1 & 1 & 12\\\\\n",
       "\t 2021-10-02 &  3.00 & NA      &       NA & 2021 & 10 & 2 & 10/2 & 14 & 1 & 2 & 0 & NA\\\\\n",
       "\\end{tabular}\n"
      ],
      "text/markdown": [
       "\n",
       "A tibble: 14 × 13\n",
       "\n",
       "| Date &lt;date&gt; | Mileage &lt;dbl&gt; | time_corr &lt;chr&gt; | pace_min &lt;dbl&gt; | Year &lt;dbl&gt; | Month &lt;dbl&gt; | Day &lt;int&gt; | month.day &lt;chr&gt; | numRun &lt;int&gt; | highest &lt;dbl&gt; | rpd &lt;int&gt; | firstRun &lt;dbl&gt; | numYear &lt;int&gt; |\n",
       "|---|---|---|---|---|---|---|---|---|---|---|---|---|\n",
       "| 2010-10-02 |  3.10 | 0:19:39 | 6.338710 | 2010 | 10 | 2 | 10/2 |  1 | 0 | 1 | 1 |  1 |\n",
       "| 2011-10-02 |  4.26 | 0:29:57 | 7.030516 | 2011 | 10 | 2 | 10/2 |  2 | 0 | 1 | 1 |  2 |\n",
       "| 2012-10-02 |  3.10 | 0:18:35 | 5.994624 | 2012 | 10 | 2 | 10/2 |  3 | 0 | 1 | 1 |  3 |\n",
       "| 2013-10-02 |  7.56 | 0:54:42 | 7.235450 | 2013 | 10 | 2 | 10/2 |  4 | 0 | 1 | 1 |  4 |\n",
       "| 2014-10-02 |  3.10 | 0:18:18 | 5.903226 | 2014 | 10 | 2 | 10/2 |  5 | 0 | 1 | 1 |  5 |\n",
       "| 2015-10-02 |  3.51 | 0:25:00 | 7.122507 | 2015 | 10 | 2 | 10/2 |  6 | 0 | 1 | 1 |  6 |\n",
       "| 2016-10-02 | 14.07 | 1:44:56 | 7.457948 | 2016 | 10 | 2 | 10/2 |  7 | 0 | 1 | 1 |  7 |\n",
       "| 2017-10-02 |  8.00 | 0:59:52 | 7.483333 | 2017 | 10 | 2 | 10/2 |  8 | 0 | 1 | 1 |  8 |\n",
       "| 2018-10-02 |  4.00 | 0:28:06 | 7.025000 | 2018 | 10 | 2 | 10/2 |  9 | 0 | 1 | 1 |  9 |\n",
       "| 2018-10-02 | 12.00 | NA      |       NA | 2018 | 10 | 2 | 10/2 | 10 | 0 | 2 | 0 | NA |\n",
       "| 2019-10-02 |  9.51 | NA      |       NA | 2019 | 10 | 2 | 10/2 | 11 | 0 | 1 | 1 | 10 |\n",
       "| 2020-10-02 |  9.31 | 1:08:15 | 7.330827 | 2020 | 10 | 2 | 10/2 | 12 | 0 | 1 | 1 | 11 |\n",
       "| 2021-10-02 | 13.11 | 1:16:48 | 5.858124 | 2021 | 10 | 2 | 10/2 | 13 | 0 | 1 | 1 | 12 |\n",
       "| 2021-10-02 |  3.00 | NA      |       NA | 2021 | 10 | 2 | 10/2 | 14 | 1 | 2 | 0 | NA |\n",
       "\n"
      ],
      "text/plain": [
       "   Date       Mileage time_corr pace_min Year Month Day month.day numRun\n",
       "1  2010-10-02  3.10   0:19:39   6.338710 2010 10    2   10/2       1    \n",
       "2  2011-10-02  4.26   0:29:57   7.030516 2011 10    2   10/2       2    \n",
       "3  2012-10-02  3.10   0:18:35   5.994624 2012 10    2   10/2       3    \n",
       "4  2013-10-02  7.56   0:54:42   7.235450 2013 10    2   10/2       4    \n",
       "5  2014-10-02  3.10   0:18:18   5.903226 2014 10    2   10/2       5    \n",
       "6  2015-10-02  3.51   0:25:00   7.122507 2015 10    2   10/2       6    \n",
       "7  2016-10-02 14.07   1:44:56   7.457948 2016 10    2   10/2       7    \n",
       "8  2017-10-02  8.00   0:59:52   7.483333 2017 10    2   10/2       8    \n",
       "9  2018-10-02  4.00   0:28:06   7.025000 2018 10    2   10/2       9    \n",
       "10 2018-10-02 12.00   NA              NA 2018 10    2   10/2      10    \n",
       "11 2019-10-02  9.51   NA              NA 2019 10    2   10/2      11    \n",
       "12 2020-10-02  9.31   1:08:15   7.330827 2020 10    2   10/2      12    \n",
       "13 2021-10-02 13.11   1:16:48   5.858124 2021 10    2   10/2      13    \n",
       "14 2021-10-02  3.00   NA              NA 2021 10    2   10/2      14    \n",
       "   highest rpd firstRun numYear\n",
       "1  0       1   1         1     \n",
       "2  0       1   1         2     \n",
       "3  0       1   1         3     \n",
       "4  0       1   1         4     \n",
       "5  0       1   1         5     \n",
       "6  0       1   1         6     \n",
       "7  0       1   1         7     \n",
       "8  0       1   1         8     \n",
       "9  0       1   1         9     \n",
       "10 0       2   0        NA     \n",
       "11 0       1   1        10     \n",
       "12 0       1   1        11     \n",
       "13 0       1   1        12     \n",
       "14 1       2   0        NA     "
      ]
     },
     "metadata": {},
     "output_type": "display_data"
    }
   ],
   "source": [
    "rpd5 %>%\n",
    "    filter(month.day==\"10/2\")"
   ]
  },
  {
   "cell_type": "code",
   "execution_count": 10,
   "id": "d0fbe611-4483-4f78-a01b-ca61e3d9759a",
   "metadata": {
    "tags": []
   },
   "outputs": [],
   "source": [
    "rpd6 <- rpd5\n",
    "rpd6$numYear<-rpd6$numYear[match(rpd6$Date,rpd6$Date)]"
   ]
  },
  {
   "cell_type": "code",
   "execution_count": 11,
   "id": "416c39f7-2824-47db-be44-89875bff8854",
   "metadata": {
    "tags": []
   },
   "outputs": [
    {
     "data": {
      "text/html": [
       "<table class=\"dataframe\">\n",
       "<caption>A tibble: 7 × 13</caption>\n",
       "<thead>\n",
       "\t<tr><th scope=col>Date</th><th scope=col>Mileage</th><th scope=col>time_corr</th><th scope=col>pace_min</th><th scope=col>Year</th><th scope=col>Month</th><th scope=col>Day</th><th scope=col>month.day</th><th scope=col>numRun</th><th scope=col>highest</th><th scope=col>rpd</th><th scope=col>firstRun</th><th scope=col>numYear</th></tr>\n",
       "\t<tr><th scope=col>&lt;date&gt;</th><th scope=col>&lt;dbl&gt;</th><th scope=col>&lt;chr&gt;</th><th scope=col>&lt;dbl&gt;</th><th scope=col>&lt;dbl&gt;</th><th scope=col>&lt;dbl&gt;</th><th scope=col>&lt;int&gt;</th><th scope=col>&lt;chr&gt;</th><th scope=col>&lt;int&gt;</th><th scope=col>&lt;dbl&gt;</th><th scope=col>&lt;int&gt;</th><th scope=col>&lt;dbl&gt;</th><th scope=col>&lt;int&gt;</th></tr>\n",
       "</thead>\n",
       "<tbody>\n",
       "\t<tr><td>2015-12-28</td><td>5.73</td><td>0:51:23</td><td>8.967423</td><td>2015</td><td>12</td><td>28</td><td>12/28</td><td>1</td><td>0</td><td>1</td><td>1</td><td>1</td></tr>\n",
       "\t<tr><td>2016-12-28</td><td>5.00</td><td>0:39:00</td><td>7.800000</td><td>2016</td><td>12</td><td>28</td><td>12/28</td><td>2</td><td>0</td><td>1</td><td>1</td><td>2</td></tr>\n",
       "\t<tr><td>2017-12-28</td><td>3.64</td><td>0:26:16</td><td>7.216117</td><td>2017</td><td>12</td><td>28</td><td>12/28</td><td>3</td><td>0</td><td>1</td><td>1</td><td>3</td></tr>\n",
       "\t<tr><td>2018-12-28</td><td>6.88</td><td>NA     </td><td>      NA</td><td>2018</td><td>12</td><td>28</td><td>12/28</td><td>4</td><td>0</td><td>1</td><td>1</td><td>4</td></tr>\n",
       "\t<tr><td>2020-12-28</td><td>7.00</td><td>0:46:35</td><td>6.654762</td><td>2020</td><td>12</td><td>28</td><td>12/28</td><td>5</td><td>0</td><td>1</td><td>1</td><td>5</td></tr>\n",
       "\t<tr><td>2021-12-28</td><td>6.00</td><td>0:44:51</td><td>7.475000</td><td>2021</td><td>12</td><td>28</td><td>12/28</td><td>6</td><td>0</td><td>1</td><td>1</td><td>6</td></tr>\n",
       "\t<tr><td>2022-12-28</td><td>6.59</td><td>0:48:41</td><td>7.387456</td><td>2022</td><td>12</td><td>28</td><td>12/28</td><td>7</td><td>1</td><td>1</td><td>1</td><td>7</td></tr>\n",
       "</tbody>\n",
       "</table>\n"
      ],
      "text/latex": [
       "A tibble: 7 × 13\n",
       "\\begin{tabular}{lllllllllllll}\n",
       " Date & Mileage & time\\_corr & pace\\_min & Year & Month & Day & month.day & numRun & highest & rpd & firstRun & numYear\\\\\n",
       " <date> & <dbl> & <chr> & <dbl> & <dbl> & <dbl> & <int> & <chr> & <int> & <dbl> & <int> & <dbl> & <int>\\\\\n",
       "\\hline\n",
       "\t 2015-12-28 & 5.73 & 0:51:23 & 8.967423 & 2015 & 12 & 28 & 12/28 & 1 & 0 & 1 & 1 & 1\\\\\n",
       "\t 2016-12-28 & 5.00 & 0:39:00 & 7.800000 & 2016 & 12 & 28 & 12/28 & 2 & 0 & 1 & 1 & 2\\\\\n",
       "\t 2017-12-28 & 3.64 & 0:26:16 & 7.216117 & 2017 & 12 & 28 & 12/28 & 3 & 0 & 1 & 1 & 3\\\\\n",
       "\t 2018-12-28 & 6.88 & NA      &       NA & 2018 & 12 & 28 & 12/28 & 4 & 0 & 1 & 1 & 4\\\\\n",
       "\t 2020-12-28 & 7.00 & 0:46:35 & 6.654762 & 2020 & 12 & 28 & 12/28 & 5 & 0 & 1 & 1 & 5\\\\\n",
       "\t 2021-12-28 & 6.00 & 0:44:51 & 7.475000 & 2021 & 12 & 28 & 12/28 & 6 & 0 & 1 & 1 & 6\\\\\n",
       "\t 2022-12-28 & 6.59 & 0:48:41 & 7.387456 & 2022 & 12 & 28 & 12/28 & 7 & 1 & 1 & 1 & 7\\\\\n",
       "\\end{tabular}\n"
      ],
      "text/markdown": [
       "\n",
       "A tibble: 7 × 13\n",
       "\n",
       "| Date &lt;date&gt; | Mileage &lt;dbl&gt; | time_corr &lt;chr&gt; | pace_min &lt;dbl&gt; | Year &lt;dbl&gt; | Month &lt;dbl&gt; | Day &lt;int&gt; | month.day &lt;chr&gt; | numRun &lt;int&gt; | highest &lt;dbl&gt; | rpd &lt;int&gt; | firstRun &lt;dbl&gt; | numYear &lt;int&gt; |\n",
       "|---|---|---|---|---|---|---|---|---|---|---|---|---|\n",
       "| 2015-12-28 | 5.73 | 0:51:23 | 8.967423 | 2015 | 12 | 28 | 12/28 | 1 | 0 | 1 | 1 | 1 |\n",
       "| 2016-12-28 | 5.00 | 0:39:00 | 7.800000 | 2016 | 12 | 28 | 12/28 | 2 | 0 | 1 | 1 | 2 |\n",
       "| 2017-12-28 | 3.64 | 0:26:16 | 7.216117 | 2017 | 12 | 28 | 12/28 | 3 | 0 | 1 | 1 | 3 |\n",
       "| 2018-12-28 | 6.88 | NA      |       NA | 2018 | 12 | 28 | 12/28 | 4 | 0 | 1 | 1 | 4 |\n",
       "| 2020-12-28 | 7.00 | 0:46:35 | 6.654762 | 2020 | 12 | 28 | 12/28 | 5 | 0 | 1 | 1 | 5 |\n",
       "| 2021-12-28 | 6.00 | 0:44:51 | 7.475000 | 2021 | 12 | 28 | 12/28 | 6 | 0 | 1 | 1 | 6 |\n",
       "| 2022-12-28 | 6.59 | 0:48:41 | 7.387456 | 2022 | 12 | 28 | 12/28 | 7 | 1 | 1 | 1 | 7 |\n",
       "\n"
      ],
      "text/plain": [
       "  Date       Mileage time_corr pace_min Year Month Day month.day numRun highest\n",
       "1 2015-12-28 5.73    0:51:23   8.967423 2015 12    28  12/28     1      0      \n",
       "2 2016-12-28 5.00    0:39:00   7.800000 2016 12    28  12/28     2      0      \n",
       "3 2017-12-28 3.64    0:26:16   7.216117 2017 12    28  12/28     3      0      \n",
       "4 2018-12-28 6.88    NA              NA 2018 12    28  12/28     4      0      \n",
       "5 2020-12-28 7.00    0:46:35   6.654762 2020 12    28  12/28     5      0      \n",
       "6 2021-12-28 6.00    0:44:51   7.475000 2021 12    28  12/28     6      0      \n",
       "7 2022-12-28 6.59    0:48:41   7.387456 2022 12    28  12/28     7      1      \n",
       "  rpd firstRun numYear\n",
       "1 1   1        1      \n",
       "2 1   1        2      \n",
       "3 1   1        3      \n",
       "4 1   1        4      \n",
       "5 1   1        5      \n",
       "6 1   1        6      \n",
       "7 1   1        7      "
      ]
     },
     "metadata": {},
     "output_type": "display_data"
    }
   ],
   "source": [
    "rpd6 %>%\n",
    "    filter(month.day==\"12/28\")"
   ]
  },
  {
   "cell_type": "code",
   "execution_count": 12,
   "id": "44810936-69a4-4aee-bebf-1c7d5e174b16",
   "metadata": {
    "tags": []
   },
   "outputs": [],
   "source": [
    "write_csv(rpd6,\"rpd.csv\")"
   ]
  },
  {
   "cell_type": "code",
   "execution_count": null,
   "id": "a450db7e-7aeb-483c-93a9-5560b7e8619a",
   "metadata": {},
   "outputs": [],
   "source": []
  },
  {
   "cell_type": "code",
   "execution_count": null,
   "id": "7e53c59d-9017-4780-b2f6-b66458dcc266",
   "metadata": {},
   "outputs": [],
   "source": []
  }
 ],
 "metadata": {
  "kernelspec": {
   "display_name": "R",
   "language": "R",
   "name": "ir"
  },
  "language_info": {
   "codemirror_mode": "r",
   "file_extension": ".r",
   "mimetype": "text/x-r-source",
   "name": "R",
   "pygments_lexer": "r",
   "version": "4.3.1"
  }
 },
 "nbformat": 4,
 "nbformat_minor": 5
}
