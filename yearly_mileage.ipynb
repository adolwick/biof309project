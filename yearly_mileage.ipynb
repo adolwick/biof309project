{
 "cells": [
  {
   "cell_type": "code",
   "execution_count": 5,
   "metadata": {},
   "outputs": [],
   "source": [
    "import pandas as pd\n",
    "from dolwick_project import splitdate\n",
    "from dolwick_project import test_splitdate"
   ]
  },
  {
   "cell_type": "code",
   "execution_count": 2,
   "metadata": {},
   "outputs": [],
   "source": [
    "d = pd.read_csv(\"clean.csv\")"
   ]
  },
  {
   "cell_type": "code",
   "execution_count": 3,
   "metadata": {},
   "outputs": [
    {
     "name": "stdout",
     "output_type": "stream",
     "text": [
      "            Date  Mileage time_corr  pace_min\n",
      "2385  2019-12-11     6.34   0:46:57  7.405363\n",
      "2386  2019-12-12     6.51   0:46:36  7.158218\n",
      "2387  2019-12-13     6.55   0:46:58  7.170483\n",
      "2388  2019-12-14     6.21   0:34:14  5.512614\n",
      "2389  2019-12-14     5.58       NaN       NaN\n",
      "2390  2019-12-17     4.70   0:33:30  7.127660\n",
      "2391  2019-12-18     4.69   0:31:50  6.787491\n",
      "2392  2019-12-19     4.79   0:35:46  7.466945\n",
      "2393  2019-12-22     4.95   0:35:19  7.134680\n",
      "2394  2019-12-24     6.00   0:40:17  6.713889\n"
     ]
    }
   ],
   "source": [
    "pd.options.display.max_rows=3000\n",
    "#print(d)\n",
    "print(d.tail(10))\n",
    "pd.options.display.max_rows=20"
   ]
  },
  {
   "cell_type": "code",
   "execution_count": 7,
   "metadata": {},
   "outputs": [
    {
     "name": "stdout",
     "output_type": "stream",
     "text": [
      "            Date  Mileage time_corr   pace_min  year month day\n",
      "0     2009-04-25     3.10   0:29:38   9.559140  2009    04  25\n",
      "1     2009-11-21     3.10   0:22:51   7.370968  2009    11  21\n",
      "2     2010-01-04     1.30   0:17:00  13.076923  2010    01  04\n",
      "3     2010-01-05     2.60   0:28:00  10.769231  2010    01  05\n",
      "4     2010-01-07     2.60   0:28:00  10.769231  2010    01  07\n",
      "5     2010-01-11     1.30       NaN        NaN  2010    01  11\n",
      "6     2010-01-14     2.60   0:26:00  10.000000  2010    01  14\n",
      "7     2010-01-16     4.05   0:35:48   8.839506  2010    01  16\n",
      "8     2010-01-19     2.60   0:24:00   9.230769  2010    01  19\n",
      "9     2010-01-25     2.66   0:24:15   9.116541  2010    01  25\n",
      "...          ...      ...       ...        ...   ...   ...  ..\n",
      "2385  2019-12-11     6.34   0:46:57   7.405363  2019    12  11\n",
      "2386  2019-12-12     6.51   0:46:36   7.158218  2019    12  12\n",
      "2387  2019-12-13     6.55   0:46:58   7.170483  2019    12  13\n",
      "2388  2019-12-14     6.21   0:34:14   5.512614  2019    12  14\n",
      "2389  2019-12-14     5.58       NaN        NaN  2019    12  14\n",
      "2390  2019-12-17     4.70   0:33:30   7.127660  2019    12  17\n",
      "2391  2019-12-18     4.69   0:31:50   6.787491  2019    12  18\n",
      "2392  2019-12-19     4.79   0:35:46   7.466945  2019    12  19\n",
      "2393  2019-12-22     4.95   0:35:19   7.134680  2019    12  22\n",
      "2394  2019-12-24     6.00   0:40:17   6.713889  2019    12  24\n",
      "\n",
      "[2395 rows x 7 columns]\n"
     ]
    }
   ],
   "source": [
    "dymd = splitdate.splitdate(d, d['Date'])\n",
    "pd.options.display.max_rows=20\n",
    "print(dymd)\n",
    "#making sure splitdate works properly\n",
    "test_splitdate.tsd()"
   ]
  },
  {
   "cell_type": "code",
   "execution_count": 21,
   "metadata": {},
   "outputs": [
    {
     "name": "stdout",
     "output_type": "stream",
     "text": [
      "417.86\n"
     ]
    }
   ],
   "source": [
    "d2010 = dymd[dymd['year'] == '2010']\n",
    "Total2010 = d2010['Mileage'].sum()\n",
    "print(Total2010)"
   ]
  },
  {
   "cell_type": "code",
   "execution_count": 22,
   "metadata": {},
   "outputs": [
    {
     "name": "stdout",
     "output_type": "stream",
     "text": [
      "534.05\n"
     ]
    }
   ],
   "source": [
    "d2011 = dymd[dymd['year'] == '2011']\n",
    "Total2011 = d2011['Mileage'].sum()\n",
    "print(Total2011)"
   ]
  },
  {
   "cell_type": "code",
   "execution_count": 23,
   "metadata": {},
   "outputs": [
    {
     "name": "stdout",
     "output_type": "stream",
     "text": [
      "689.38\n"
     ]
    }
   ],
   "source": [
    "d2012 = dymd[dymd['year'] == '2012']\n",
    "Total2012 = d2012['Mileage'].sum()\n",
    "print(Total2012)"
   ]
  },
  {
   "cell_type": "code",
   "execution_count": 24,
   "metadata": {},
   "outputs": [
    {
     "name": "stdout",
     "output_type": "stream",
     "text": [
      "687.18\n"
     ]
    }
   ],
   "source": [
    "d2013 = dymd[dymd['year'] == '2013']\n",
    "Total2013 = d2013['Mileage'].sum()\n",
    "print(Total2013)"
   ]
  },
  {
   "cell_type": "code",
   "execution_count": 25,
   "metadata": {},
   "outputs": [
    {
     "name": "stdout",
     "output_type": "stream",
     "text": [
      "1029.0\n"
     ]
    }
   ],
   "source": [
    "d2014 = dymd[dymd['year'] == '2014']\n",
    "Total2014 = d2014['Mileage'].sum()\n",
    "print(Total2014)"
   ]
  },
  {
   "cell_type": "code",
   "execution_count": 26,
   "metadata": {},
   "outputs": [
    {
     "name": "stdout",
     "output_type": "stream",
     "text": [
      "1658.3400000000001\n"
     ]
    }
   ],
   "source": [
    "d2015 = dymd[dymd['year'] == '2015']\n",
    "Total2015 = d2015['Mileage'].sum()\n",
    "print(Total2015)"
   ]
  },
  {
   "cell_type": "code",
   "execution_count": 27,
   "metadata": {},
   "outputs": [
    {
     "name": "stdout",
     "output_type": "stream",
     "text": [
      "2036.7900000000002\n"
     ]
    }
   ],
   "source": [
    "d2016 = dymd[dymd['year'] == '2016']\n",
    "Total2016 = d2016['Mileage'].sum()\n",
    "print(Total2016)"
   ]
  },
  {
   "cell_type": "code",
   "execution_count": 28,
   "metadata": {},
   "outputs": [
    {
     "name": "stdout",
     "output_type": "stream",
     "text": [
      "2200.0\n"
     ]
    }
   ],
   "source": [
    "d2017 = dymd[dymd['year'] == '2017']\n",
    "Total2017 = d2017['Mileage'].sum()\n",
    "print(Total2017)"
   ]
  },
  {
   "cell_type": "code",
   "execution_count": 29,
   "metadata": {},
   "outputs": [
    {
     "name": "stdout",
     "output_type": "stream",
     "text": [
      "2973.0\n"
     ]
    }
   ],
   "source": [
    "d2018 = dymd[dymd['year'] == '2018']\n",
    "Total2018 = d2018['Mileage'].sum()\n",
    "print(Total2018)"
   ]
  },
  {
   "cell_type": "code",
   "execution_count": 30,
   "metadata": {},
   "outputs": [
    {
     "name": "stdout",
     "output_type": "stream",
     "text": [
      "2313.9900000000002\n"
     ]
    }
   ],
   "source": [
    "d2019 = dymd[dymd['year'] == '2019']\n",
    "Total2019 = d2019['Mileage'].sum()\n",
    "print(Total2019)"
   ]
  },
  {
   "cell_type": "code",
   "execution_count": null,
   "metadata": {},
   "outputs": [],
   "source": []
  }
 ],
 "metadata": {
  "kernelspec": {
   "display_name": "Python 3",
   "language": "python",
   "name": "python3"
  },
  "language_info": {
   "codemirror_mode": {
    "name": "ipython",
    "version": 3
   },
   "file_extension": ".py",
   "mimetype": "text/x-python",
   "name": "python",
   "nbconvert_exporter": "python",
   "pygments_lexer": "ipython3",
   "version": "3.7.3"
  }
 },
 "nbformat": 4,
 "nbformat_minor": 4
}
