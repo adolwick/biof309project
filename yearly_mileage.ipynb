{
 "cells": [
  {
   "cell_type": "code",
   "execution_count": 2,
   "metadata": {},
   "outputs": [],
   "source": [
    "import pandas as pd\n",
    "from dolwick_project import splitdate\n",
    "from dolwick_project import test_splitdate"
   ]
  },
  {
   "cell_type": "code",
   "execution_count": 3,
   "metadata": {},
   "outputs": [],
   "source": [
    "d = pd.read_csv(\"clean.csv\")"
   ]
  },
  {
   "cell_type": "code",
   "execution_count": 4,
   "metadata": {},
   "outputs": [
    {
     "name": "stdout",
     "output_type": "stream",
     "text": [
      "            Date  Mileage time_corr  pace_min\n",
      "2399  2020-01-10     6.04   0:42:41  7.066777\n",
      "2400  2020-01-11     6.13   0:43:08  7.036433\n",
      "2401  2020-01-13     5.10   0:33:49  6.630719\n",
      "2402  2020-01-14     6.02   0:43:23  7.206534\n",
      "2403  2020-01-17     8.13   0:59:33  7.324723\n",
      "2404  2020-01-19     9.61   1:04:44  6.736039\n",
      "2405  2020-01-20     6.68   0:50:00  7.485030\n",
      "2406  2020-01-21     5.00   0:35:53  7.176667\n",
      "2407  2020-01-22     6.11   0:43:23  7.100382\n",
      "2408  2020-01-24     7.16   0:48:25  6.762104\n"
     ]
    }
   ],
   "source": [
    "pd.options.display.max_rows=3000\n",
    "#print(d)\n",
    "print(d.tail(10))\n",
    "pd.options.display.max_rows=20"
   ]
  },
  {
   "cell_type": "code",
   "execution_count": 5,
   "metadata": {},
   "outputs": [
    {
     "name": "stdout",
     "output_type": "stream",
     "text": [
      "            Date  Mileage time_corr   pace_min  year month day\n",
      "0     2009-04-25     3.10   0:29:38   9.559140  2009    04  25\n",
      "1     2009-11-21     3.10   0:22:51   7.370968  2009    11  21\n",
      "2     2010-01-04     1.30   0:17:00  13.076923  2010    01  04\n",
      "3     2010-01-05     2.60   0:28:00  10.769231  2010    01  05\n",
      "4     2010-01-07     2.60   0:28:00  10.769231  2010    01  07\n",
      "5     2010-01-11     1.30       NaN        NaN  2010    01  11\n",
      "6     2010-01-14     2.60   0:26:00  10.000000  2010    01  14\n",
      "7     2010-01-16     4.05   0:35:48   8.839506  2010    01  16\n",
      "8     2010-01-19     2.60   0:24:00   9.230769  2010    01  19\n",
      "9     2010-01-25     2.66   0:24:15   9.116541  2010    01  25\n",
      "...          ...      ...       ...        ...   ...   ...  ..\n",
      "2399  2020-01-10     6.04   0:42:41   7.066777  2020    01  10\n",
      "2400  2020-01-11     6.13   0:43:08   7.036433  2020    01  11\n",
      "2401  2020-01-13     5.10   0:33:49   6.630719  2020    01  13\n",
      "2402  2020-01-14     6.02   0:43:23   7.206534  2020    01  14\n",
      "2403  2020-01-17     8.13   0:59:33   7.324723  2020    01  17\n",
      "2404  2020-01-19     9.61   1:04:44   6.736039  2020    01  19\n",
      "2405  2020-01-20     6.68   0:50:00   7.485030  2020    01  20\n",
      "2406  2020-01-21     5.00   0:35:53   7.176667  2020    01  21\n",
      "2407  2020-01-22     6.11   0:43:23   7.100382  2020    01  22\n",
      "2408  2020-01-24     7.16   0:48:25   6.762104  2020    01  24\n",
      "\n",
      "[2409 rows x 7 columns]\n"
     ]
    }
   ],
   "source": [
    "dymd = splitdate.splitdate(d, d['Date'])\n",
    "pd.options.display.max_rows=20\n",
    "print(dymd)\n",
    "#making sure splitdate works properly\n",
    "test_splitdate.tsd()"
   ]
  },
  {
   "cell_type": "code",
   "execution_count": 6,
   "metadata": {},
   "outputs": [
    {
     "name": "stdout",
     "output_type": "stream",
     "text": [
      "14634.16\n"
     ]
    }
   ],
   "source": [
    "Total = dymd['Mileage'].sum()\n",
    "print(Total)"
   ]
  },
  {
   "cell_type": "code",
   "execution_count": 21,
   "metadata": {},
   "outputs": [
    {
     "name": "stdout",
     "output_type": "stream",
     "text": [
      "417.86\n"
     ]
    }
   ],
   "source": [
    "d2010 = dymd[dymd['year'] == '2010']\n",
    "Total2010 = d2010['Mileage'].sum()\n",
    "print(Total2010)"
   ]
  },
  {
   "cell_type": "code",
   "execution_count": 22,
   "metadata": {},
   "outputs": [
    {
     "name": "stdout",
     "output_type": "stream",
     "text": [
      "534.05\n"
     ]
    }
   ],
   "source": [
    "d2011 = dymd[dymd['year'] == '2011']\n",
    "Total2011 = d2011['Mileage'].sum()\n",
    "print(Total2011)"
   ]
  },
  {
   "cell_type": "code",
   "execution_count": 23,
   "metadata": {},
   "outputs": [
    {
     "name": "stdout",
     "output_type": "stream",
     "text": [
      "689.38\n"
     ]
    }
   ],
   "source": [
    "d2012 = dymd[dymd['year'] == '2012']\n",
    "Total2012 = d2012['Mileage'].sum()\n",
    "print(Total2012)"
   ]
  },
  {
   "cell_type": "code",
   "execution_count": 24,
   "metadata": {},
   "outputs": [
    {
     "name": "stdout",
     "output_type": "stream",
     "text": [
      "687.18\n"
     ]
    }
   ],
   "source": [
    "d2013 = dymd[dymd['year'] == '2013']\n",
    "Total2013 = d2013['Mileage'].sum()\n",
    "print(Total2013)"
   ]
  },
  {
   "cell_type": "code",
   "execution_count": 25,
   "metadata": {},
   "outputs": [
    {
     "name": "stdout",
     "output_type": "stream",
     "text": [
      "1029.0\n"
     ]
    }
   ],
   "source": [
    "d2014 = dymd[dymd['year'] == '2014']\n",
    "Total2014 = d2014['Mileage'].sum()\n",
    "print(Total2014)"
   ]
  },
  {
   "cell_type": "code",
   "execution_count": 26,
   "metadata": {},
   "outputs": [
    {
     "name": "stdout",
     "output_type": "stream",
     "text": [
      "1658.3400000000001\n"
     ]
    }
   ],
   "source": [
    "d2015 = dymd[dymd['year'] == '2015']\n",
    "Total2015 = d2015['Mileage'].sum()\n",
    "print(Total2015)"
   ]
  },
  {
   "cell_type": "code",
   "execution_count": 27,
   "metadata": {},
   "outputs": [
    {
     "name": "stdout",
     "output_type": "stream",
     "text": [
      "2036.7900000000002\n"
     ]
    }
   ],
   "source": [
    "d2016 = dymd[dymd['year'] == '2016']\n",
    "Total2016 = d2016['Mileage'].sum()\n",
    "print(Total2016)"
   ]
  },
  {
   "cell_type": "code",
   "execution_count": 28,
   "metadata": {},
   "outputs": [
    {
     "name": "stdout",
     "output_type": "stream",
     "text": [
      "2200.0\n"
     ]
    }
   ],
   "source": [
    "d2017 = dymd[dymd['year'] == '2017']\n",
    "Total2017 = d2017['Mileage'].sum()\n",
    "print(Total2017)"
   ]
  },
  {
   "cell_type": "code",
   "execution_count": 29,
   "metadata": {},
   "outputs": [
    {
     "name": "stdout",
     "output_type": "stream",
     "text": [
      "2973.0\n"
     ]
    }
   ],
   "source": [
    "d2018 = dymd[dymd['year'] == '2018']\n",
    "Total2018 = d2018['Mileage'].sum()\n",
    "print(Total2018)"
   ]
  },
  {
   "cell_type": "code",
   "execution_count": 30,
   "metadata": {},
   "outputs": [
    {
     "name": "stdout",
     "output_type": "stream",
     "text": [
      "2313.9900000000002\n"
     ]
    }
   ],
   "source": [
    "d2019 = dymd[dymd['year'] == '2019']\n",
    "Total2019 = d2019['Mileage'].sum()\n",
    "print(Total2019)"
   ]
  },
  {
   "cell_type": "code",
   "execution_count": null,
   "metadata": {},
   "outputs": [],
   "source": [
    "d2020 = dymd[dymd['year'] == '2020']\n",
    "Total2020 = d2020['Mileage'].sum()\n",
    "print(Total2020)"
   ]
  }
 ],
 "metadata": {
  "kernelspec": {
   "display_name": "Python 3",
   "language": "python",
   "name": "python3"
  },
  "language_info": {
   "codemirror_mode": {
    "name": "ipython",
    "version": 3
   },
   "file_extension": ".py",
   "mimetype": "text/x-python",
   "name": "python",
   "nbconvert_exporter": "python",
   "pygments_lexer": "ipython3",
   "version": "3.7.3"
  }
 },
 "nbformat": 4,
 "nbformat_minor": 4
}
