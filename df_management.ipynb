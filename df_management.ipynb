{
 "cells": [
  {
   "cell_type": "markdown",
   "metadata": {},
   "source": [
    "# Data Management"
   ]
  },
  {
   "cell_type": "code",
   "execution_count": 17,
   "metadata": {},
   "outputs": [],
   "source": [
    "import pandas as pd\n",
    "import numpy as np\n",
    "import re"
   ]
  },
  {
   "cell_type": "markdown",
   "metadata": {},
   "source": [
    "The original dataframe \"df\" contains the date, distance, and runtime of each run from 2010-present. The goal of this data management process is to calculate a \"pace\" column from the distance and time of each run."
   ]
  },
  {
   "cell_type": "code",
   "execution_count": 18,
   "metadata": {},
   "outputs": [],
   "source": [
    "df = pd.read_excel(\"Running_Log.xlsx\")"
   ]
  },
  {
   "cell_type": "code",
   "execution_count": 19,
   "metadata": {},
   "outputs": [
    {
     "name": "stdout",
     "output_type": "stream",
     "text": [
      "            Date  Mileage     Time\n",
      "0     2009-04-25     3.10    29:38\n",
      "1     2009-11-21     3.10    22:51\n",
      "2     2010-01-04     1.30    17:00\n",
      "3     2010-01-05     2.60    28:00\n",
      "4     2010-01-07     2.60    28:00\n",
      "5     2010-01-11     1.30      NaN\n",
      "6     2010-01-14     2.60    26:00\n",
      "7     2010-01-16     4.05    35:48\n",
      "8     2010-01-19     2.60    24:00\n",
      "9     2010-01-25     2.66    24:15\n",
      "...          ...      ...      ...\n",
      "2442  2020-03-01    16.23  1:46:56\n",
      "2443  2020-03-02     5.05    41:03\n",
      "2444  2020-03-03     8.27    59:25\n",
      "2445  2020-03-04     9.42  1:09:07\n",
      "2446  2020-03-05     8.05    58:14\n",
      "2447  2020-03-06    10.21  1:11:44\n",
      "2448  2020-03-07     8.11    57:36\n",
      "2449  2020-03-07     1.29     9:22\n",
      "2450  2020-03-08    15.01  1:49:09\n",
      "2451  2020-03-09     6.32    46:44\n",
      "\n",
      "[2452 rows x 3 columns]\n"
     ]
    }
   ],
   "source": [
    "pd.options.display.max_rows=20\n",
    "print(df)"
   ]
  },
  {
   "cell_type": "markdown",
   "metadata": {},
   "source": [
    "The main obstacle in creating a pace column is that it is not easy to do math with times in mm:ss format. So the \"Time\" column must be reformatted into minutes, with fractions of minutes put in decimal format (e.g. instead of \"29:38\", output = \"29.633\")."
   ]
  },
  {
   "cell_type": "code",
   "execution_count": 20,
   "metadata": {},
   "outputs": [
    {
     "name": "stdout",
     "output_type": "stream",
     "text": [
      "            Date  Mileage     Time\n",
      "0     2009-04-25      3.1    29:38\n",
      "1389  2016-11-27     10.0  1:10:51\n"
     ]
    }
   ],
   "source": [
    "print(df.iloc[[0,1389]])"
   ]
  },
  {
   "cell_type": "markdown",
   "metadata": {},
   "source": [
    "However, as can be seen above, some of my runs lasted longer than an hour and were thus input in h:mm:ss format. When I attempted to delimit the col by \":\", the \"1\" (hour) in row 1389 was put in the same column as the \"29\" (minutes) in row 0.\n",
    "\n",
    "To work around this problem, I computed a new col \"time_h\" with a standardized time format of \"h:mm:ss\" as seen below. I added an assert() statement to ensure that all data points in \"time_h\" started with a number and then a colon, as I had intended."
   ]
  },
  {
   "cell_type": "code",
   "execution_count": 21,
   "metadata": {},
   "outputs": [
    {
     "name": "stdout",
     "output_type": "stream",
     "text": [
      "            Date  Mileage     Time   time_h\n",
      "0     2009-04-25      3.1    29:38  0:29:38\n",
      "1389  2016-11-27     10.0  1:10:51  1:10:51\n"
     ]
    }
   ],
   "source": [
    "# added new col to standardize format of time var as \"h:mm:ss\"\n",
    "df[\"time_h\"] = pd.np.where(df.Time.str.contains('\\d:\\d\\d:\\d\\d', regex = True), df[\"Time\"], \"0:\" + df[\"Time\"])\n",
    "print(df.iloc[[0,1389]])\n",
    "\n",
    "testseries = df['time_h'].dropna()\n",
    "for i in testseries:\n",
    "    assert(re.match('\\d:*', i))"
   ]
  },
  {
   "cell_type": "markdown",
   "metadata": {},
   "source": [
    "Then I created a new dataframe where df['time_h'] was delimited by \":\" into three columns.\n",
    "\n",
    "Next, I merged the \"new\" dataframe with the \"df\" dataframe and called the resulting dataframe \"result\".\n",
    "\n",
    "Finally, I created \"df2\" from \"result\" and renamed the vars from \"new\" to be \"hours\", \"minutes\", and \"seconds\".\n",
    "\n",
    "These changes can be seen in the following three sections of code."
   ]
  },
  {
   "cell_type": "code",
   "execution_count": 22,
   "metadata": {},
   "outputs": [
    {
     "name": "stdout",
     "output_type": "stream",
     "text": [
      "        0    1    2\n",
      "0       0   29   38\n",
      "1       0   22   51\n",
      "2       0   17   00\n",
      "3       0   28   00\n",
      "4       0   28   00\n",
      "5     NaN  NaN  NaN\n",
      "6       0   26   00\n",
      "7       0   35   48\n",
      "8       0   24   00\n",
      "9       0   24   15\n",
      "...   ...  ...  ...\n",
      "2442    1   46   56\n",
      "2443    0   41   03\n",
      "2444    0   59   25\n",
      "2445    1   09   07\n",
      "2446    0   58   14\n",
      "2447    1   11   44\n",
      "2448    0   57   36\n",
      "2449    0    9   22\n",
      "2450    1   49   09\n",
      "2451    0   46   44\n",
      "\n",
      "[2452 rows x 3 columns]\n"
     ]
    }
   ],
   "source": [
    "# created new dataframe with \"time_h\" col expanded into hr, min, and sec vars\n",
    "new = df[\"time_h\"].str.split(pat = \":\", expand = True)\n",
    "print(new)"
   ]
  },
  {
   "cell_type": "code",
   "execution_count": 23,
   "metadata": {},
   "outputs": [
    {
     "name": "stdout",
     "output_type": "stream",
     "text": [
      "            Date  Mileage     Time   time_h    0    1    2\n",
      "0     2009-04-25     3.10    29:38  0:29:38    0   29   38\n",
      "1     2009-11-21     3.10    22:51  0:22:51    0   22   51\n",
      "2     2010-01-04     1.30    17:00  0:17:00    0   17   00\n",
      "3     2010-01-05     2.60    28:00  0:28:00    0   28   00\n",
      "4     2010-01-07     2.60    28:00  0:28:00    0   28   00\n",
      "5     2010-01-11     1.30      NaN      NaN  NaN  NaN  NaN\n",
      "6     2010-01-14     2.60    26:00  0:26:00    0   26   00\n",
      "7     2010-01-16     4.05    35:48  0:35:48    0   35   48\n",
      "8     2010-01-19     2.60    24:00  0:24:00    0   24   00\n",
      "9     2010-01-25     2.66    24:15  0:24:15    0   24   15\n",
      "...          ...      ...      ...      ...  ...  ...  ...\n",
      "2442  2020-03-01    16.23  1:46:56  1:46:56    1   46   56\n",
      "2443  2020-03-02     5.05    41:03  0:41:03    0   41   03\n",
      "2444  2020-03-03     8.27    59:25  0:59:25    0   59   25\n",
      "2445  2020-03-04     9.42  1:09:07  1:09:07    1   09   07\n",
      "2446  2020-03-05     8.05    58:14  0:58:14    0   58   14\n",
      "2447  2020-03-06    10.21  1:11:44  1:11:44    1   11   44\n",
      "2448  2020-03-07     8.11    57:36  0:57:36    0   57   36\n",
      "2449  2020-03-07     1.29     9:22   0:9:22    0    9   22\n",
      "2450  2020-03-08    15.01  1:49:09  1:49:09    1   49   09\n",
      "2451  2020-03-09     6.32    46:44  0:46:44    0   46   44\n",
      "\n",
      "[2452 rows x 7 columns]\n"
     ]
    }
   ],
   "source": [
    "result = pd.concat([df, new], axis=1, sort=False)\n",
    "print(result)"
   ]
  },
  {
   "cell_type": "code",
   "execution_count": 24,
   "metadata": {},
   "outputs": [
    {
     "name": "stdout",
     "output_type": "stream",
     "text": [
      "            Date  Mileage     Time time_corr hours minutes seconds\n",
      "0     2009-04-25     3.10    29:38   0:29:38     0      29      38\n",
      "1     2009-11-21     3.10    22:51   0:22:51     0      22      51\n",
      "2     2010-01-04     1.30    17:00   0:17:00     0      17      00\n",
      "3     2010-01-05     2.60    28:00   0:28:00     0      28      00\n",
      "4     2010-01-07     2.60    28:00   0:28:00     0      28      00\n",
      "5     2010-01-11     1.30      NaN       NaN   NaN     NaN     NaN\n",
      "6     2010-01-14     2.60    26:00   0:26:00     0      26      00\n",
      "7     2010-01-16     4.05    35:48   0:35:48     0      35      48\n",
      "8     2010-01-19     2.60    24:00   0:24:00     0      24      00\n",
      "9     2010-01-25     2.66    24:15   0:24:15     0      24      15\n",
      "...          ...      ...      ...       ...   ...     ...     ...\n",
      "2442  2020-03-01    16.23  1:46:56   1:46:56     1      46      56\n",
      "2443  2020-03-02     5.05    41:03   0:41:03     0      41      03\n",
      "2444  2020-03-03     8.27    59:25   0:59:25     0      59      25\n",
      "2445  2020-03-04     9.42  1:09:07   1:09:07     1      09      07\n",
      "2446  2020-03-05     8.05    58:14   0:58:14     0      58      14\n",
      "2447  2020-03-06    10.21  1:11:44   1:11:44     1      11      44\n",
      "2448  2020-03-07     8.11    57:36   0:57:36     0      57      36\n",
      "2449  2020-03-07     1.29     9:22    0:9:22     0       9      22\n",
      "2450  2020-03-08    15.01  1:49:09   1:49:09     1      49      09\n",
      "2451  2020-03-09     6.32    46:44   0:46:44     0      46      44\n",
      "\n",
      "[2452 rows x 7 columns]\n"
     ]
    }
   ],
   "source": [
    "df2 = result.rename(columns={\"time_h\": \"time_corr\", 0: \"hours\", 1: \"minutes\", 2: \"seconds\"})\n",
    "print(df2)"
   ]
  },
  {
   "cell_type": "markdown",
   "metadata": {},
   "source": [
    "To calculate pace, I needed to get my three time columns into numeric format.\n",
    "\n",
    "Then I needed to combine them back into one time variable in seconds."
   ]
  },
  {
   "cell_type": "code",
   "execution_count": 25,
   "metadata": {},
   "outputs": [],
   "source": [
    "df2['hours'] = pd.to_numeric(df2['hours'])\n",
    "df2['minutes'] = pd.to_numeric(df2['minutes'])\n",
    "df2['seconds'] = pd.to_numeric(df2['seconds'])"
   ]
  },
  {
   "cell_type": "code",
   "execution_count": 26,
   "metadata": {},
   "outputs": [
    {
     "name": "stdout",
     "output_type": "stream",
     "text": [
      "            Date  Mileage     Time time_corr  hours  minutes  seconds  time_s\n",
      "0     2009-04-25     3.10    29:38   0:29:38    0.0     29.0     38.0  1778.0\n",
      "1     2009-11-21     3.10    22:51   0:22:51    0.0     22.0     51.0  1371.0\n",
      "2     2010-01-04     1.30    17:00   0:17:00    0.0     17.0      0.0  1020.0\n",
      "3     2010-01-05     2.60    28:00   0:28:00    0.0     28.0      0.0  1680.0\n",
      "4     2010-01-07     2.60    28:00   0:28:00    0.0     28.0      0.0  1680.0\n",
      "5     2010-01-11     1.30      NaN       NaN    NaN      NaN      NaN     NaN\n",
      "6     2010-01-14     2.60    26:00   0:26:00    0.0     26.0      0.0  1560.0\n",
      "7     2010-01-16     4.05    35:48   0:35:48    0.0     35.0     48.0  2148.0\n",
      "8     2010-01-19     2.60    24:00   0:24:00    0.0     24.0      0.0  1440.0\n",
      "9     2010-01-25     2.66    24:15   0:24:15    0.0     24.0     15.0  1455.0\n",
      "...          ...      ...      ...       ...    ...      ...      ...     ...\n",
      "2442  2020-03-01    16.23  1:46:56   1:46:56    1.0     46.0     56.0  6416.0\n",
      "2443  2020-03-02     5.05    41:03   0:41:03    0.0     41.0      3.0  2463.0\n",
      "2444  2020-03-03     8.27    59:25   0:59:25    0.0     59.0     25.0  3565.0\n",
      "2445  2020-03-04     9.42  1:09:07   1:09:07    1.0      9.0      7.0  4147.0\n",
      "2446  2020-03-05     8.05    58:14   0:58:14    0.0     58.0     14.0  3494.0\n",
      "2447  2020-03-06    10.21  1:11:44   1:11:44    1.0     11.0     44.0  4304.0\n",
      "2448  2020-03-07     8.11    57:36   0:57:36    0.0     57.0     36.0  3456.0\n",
      "2449  2020-03-07     1.29     9:22    0:9:22    0.0      9.0     22.0   562.0\n",
      "2450  2020-03-08    15.01  1:49:09   1:49:09    1.0     49.0      9.0  6549.0\n",
      "2451  2020-03-09     6.32    46:44   0:46:44    0.0     46.0     44.0  2804.0\n",
      "\n",
      "[2452 rows x 8 columns]\n"
     ]
    }
   ],
   "source": [
    "time_seconds = df2.hours*3600 + df2.minutes*60 + df2.seconds\n",
    "df2['time_s'] = time_seconds\n",
    "print(df2)"
   ]
  },
  {
   "cell_type": "markdown",
   "metadata": {},
   "source": [
    "At last, I was able to calculate pace (after converting the column for distance to numeric format). I first calculated it in seconds-per-mile.\n",
    "\n",
    "Then I created a new column in which the units for pace were a more meaningful minutes-per-mile."
   ]
  },
  {
   "cell_type": "code",
   "execution_count": 27,
   "metadata": {},
   "outputs": [
    {
     "name": "stdout",
     "output_type": "stream",
     "text": [
      "            Date  Mileage     Time time_corr  hours  minutes  seconds  time_s  \\\n",
      "0     2009-04-25     3.10    29:38   0:29:38    0.0     29.0     38.0  1778.0   \n",
      "1     2009-11-21     3.10    22:51   0:22:51    0.0     22.0     51.0  1371.0   \n",
      "2     2010-01-04     1.30    17:00   0:17:00    0.0     17.0      0.0  1020.0   \n",
      "3     2010-01-05     2.60    28:00   0:28:00    0.0     28.0      0.0  1680.0   \n",
      "4     2010-01-07     2.60    28:00   0:28:00    0.0     28.0      0.0  1680.0   \n",
      "5     2010-01-11     1.30      NaN       NaN    NaN      NaN      NaN     NaN   \n",
      "6     2010-01-14     2.60    26:00   0:26:00    0.0     26.0      0.0  1560.0   \n",
      "7     2010-01-16     4.05    35:48   0:35:48    0.0     35.0     48.0  2148.0   \n",
      "8     2010-01-19     2.60    24:00   0:24:00    0.0     24.0      0.0  1440.0   \n",
      "9     2010-01-25     2.66    24:15   0:24:15    0.0     24.0     15.0  1455.0   \n",
      "...          ...      ...      ...       ...    ...      ...      ...     ...   \n",
      "2442  2020-03-01    16.23  1:46:56   1:46:56    1.0     46.0     56.0  6416.0   \n",
      "2443  2020-03-02     5.05    41:03   0:41:03    0.0     41.0      3.0  2463.0   \n",
      "2444  2020-03-03     8.27    59:25   0:59:25    0.0     59.0     25.0  3565.0   \n",
      "2445  2020-03-04     9.42  1:09:07   1:09:07    1.0      9.0      7.0  4147.0   \n",
      "2446  2020-03-05     8.05    58:14   0:58:14    0.0     58.0     14.0  3494.0   \n",
      "2447  2020-03-06    10.21  1:11:44   1:11:44    1.0     11.0     44.0  4304.0   \n",
      "2448  2020-03-07     8.11    57:36   0:57:36    0.0     57.0     36.0  3456.0   \n",
      "2449  2020-03-07     1.29     9:22    0:9:22    0.0      9.0     22.0   562.0   \n",
      "2450  2020-03-08    15.01  1:49:09   1:49:09    1.0     49.0      9.0  6549.0   \n",
      "2451  2020-03-09     6.32    46:44   0:46:44    0.0     46.0     44.0  2804.0   \n",
      "\n",
      "          pace_s  \n",
      "0     573.548387  \n",
      "1     442.258065  \n",
      "2     784.615385  \n",
      "3     646.153846  \n",
      "4     646.153846  \n",
      "5            NaN  \n",
      "6     600.000000  \n",
      "7     530.370370  \n",
      "8     553.846154  \n",
      "9     546.992481  \n",
      "...          ...  \n",
      "2442  395.317314  \n",
      "2443  487.722772  \n",
      "2444  431.076179  \n",
      "2445  440.233546  \n",
      "2446  434.037267  \n",
      "2447  421.547502  \n",
      "2448  426.140567  \n",
      "2449  435.658915  \n",
      "2450  436.309127  \n",
      "2451  443.670886  \n",
      "\n",
      "[2452 rows x 9 columns]\n"
     ]
    }
   ],
   "source": [
    "df2['Mileage'] = pd.to_numeric(df2['Mileage'])\n",
    "pace_s = df2.time_s / df2.Mileage\n",
    "df2['pace_s'] = pace_s\n",
    "print(df2)"
   ]
  },
  {
   "cell_type": "code",
   "execution_count": 28,
   "metadata": {},
   "outputs": [
    {
     "name": "stdout",
     "output_type": "stream",
     "text": [
      "            Date  Mileage     Time time_corr  hours  minutes  seconds  time_s  \\\n",
      "0     2009-04-25     3.10    29:38   0:29:38    0.0     29.0     38.0  1778.0   \n",
      "1     2009-11-21     3.10    22:51   0:22:51    0.0     22.0     51.0  1371.0   \n",
      "2     2010-01-04     1.30    17:00   0:17:00    0.0     17.0      0.0  1020.0   \n",
      "3     2010-01-05     2.60    28:00   0:28:00    0.0     28.0      0.0  1680.0   \n",
      "4     2010-01-07     2.60    28:00   0:28:00    0.0     28.0      0.0  1680.0   \n",
      "5     2010-01-11     1.30      NaN       NaN    NaN      NaN      NaN     NaN   \n",
      "6     2010-01-14     2.60    26:00   0:26:00    0.0     26.0      0.0  1560.0   \n",
      "7     2010-01-16     4.05    35:48   0:35:48    0.0     35.0     48.0  2148.0   \n",
      "8     2010-01-19     2.60    24:00   0:24:00    0.0     24.0      0.0  1440.0   \n",
      "9     2010-01-25     2.66    24:15   0:24:15    0.0     24.0     15.0  1455.0   \n",
      "...          ...      ...      ...       ...    ...      ...      ...     ...   \n",
      "2442  2020-03-01    16.23  1:46:56   1:46:56    1.0     46.0     56.0  6416.0   \n",
      "2443  2020-03-02     5.05    41:03   0:41:03    0.0     41.0      3.0  2463.0   \n",
      "2444  2020-03-03     8.27    59:25   0:59:25    0.0     59.0     25.0  3565.0   \n",
      "2445  2020-03-04     9.42  1:09:07   1:09:07    1.0      9.0      7.0  4147.0   \n",
      "2446  2020-03-05     8.05    58:14   0:58:14    0.0     58.0     14.0  3494.0   \n",
      "2447  2020-03-06    10.21  1:11:44   1:11:44    1.0     11.0     44.0  4304.0   \n",
      "2448  2020-03-07     8.11    57:36   0:57:36    0.0     57.0     36.0  3456.0   \n",
      "2449  2020-03-07     1.29     9:22    0:9:22    0.0      9.0     22.0   562.0   \n",
      "2450  2020-03-08    15.01  1:49:09   1:49:09    1.0     49.0      9.0  6549.0   \n",
      "2451  2020-03-09     6.32    46:44   0:46:44    0.0     46.0     44.0  2804.0   \n",
      "\n",
      "          pace_s   pace_min  \n",
      "0     573.548387   9.559140  \n",
      "1     442.258065   7.370968  \n",
      "2     784.615385  13.076923  \n",
      "3     646.153846  10.769231  \n",
      "4     646.153846  10.769231  \n",
      "5            NaN        NaN  \n",
      "6     600.000000  10.000000  \n",
      "7     530.370370   8.839506  \n",
      "8     553.846154   9.230769  \n",
      "9     546.992481   9.116541  \n",
      "...          ...        ...  \n",
      "2442  395.317314   6.588622  \n",
      "2443  487.722772   8.128713  \n",
      "2444  431.076179   7.184603  \n",
      "2445  440.233546   7.337226  \n",
      "2446  434.037267   7.233954  \n",
      "2447  421.547502   7.025792  \n",
      "2448  426.140567   7.102343  \n",
      "2449  435.658915   7.260982  \n",
      "2450  436.309127   7.271819  \n",
      "2451  443.670886   7.394515  \n",
      "\n",
      "[2452 rows x 10 columns]\n"
     ]
    }
   ],
   "source": [
    "pace_min = df2.pace_s / 60\n",
    "df2['pace_min'] = pace_min\n",
    "print(df2)"
   ]
  },
  {
   "cell_type": "markdown",
   "metadata": {},
   "source": [
    "I noticed that, due to some input errors in the original excel file, the formatting for all values in the \"Date\" column between the years 2012 and 2014 included the time of day (which, as I had never input that, ended up as a bunch of zeros at the end of the cell, as can be seen below in row 800).\n",
    "\n",
    "I fixed this by changing the Date column to string format and then keeping only the first ten characters in each cell of that column."
   ]
  },
  {
   "cell_type": "code",
   "execution_count": 29,
   "metadata": {},
   "outputs": [
    {
     "name": "stdout",
     "output_type": "stream",
     "text": [
      "                    Date  Mileage   Time time_corr  hours  minutes  seconds  \\\n",
      "0             2009-04-25     3.10  29:38   0:29:38    0.0     29.0     38.0   \n",
      "800  2014-12-16 00:00:00     4.58  36:59   0:36:59    0.0     36.0     59.0   \n",
      "\n",
      "     time_s      pace_s  pace_min  \n",
      "0    1778.0  573.548387  9.559140  \n",
      "800  2219.0  484.497817  8.074964  \n"
     ]
    }
   ],
   "source": [
    "print(df2.iloc[[0,800]])"
   ]
  },
  {
   "cell_type": "code",
   "execution_count": 30,
   "metadata": {},
   "outputs": [
    {
     "name": "stdout",
     "output_type": "stream",
     "text": [
      "            Date  Mileage     Time time_corr  hours  minutes  seconds  time_s  \\\n",
      "0     2009-04-25     3.10    29:38   0:29:38    0.0     29.0     38.0  1778.0   \n",
      "1     2009-11-21     3.10    22:51   0:22:51    0.0     22.0     51.0  1371.0   \n",
      "2     2010-01-04     1.30    17:00   0:17:00    0.0     17.0      0.0  1020.0   \n",
      "3     2010-01-05     2.60    28:00   0:28:00    0.0     28.0      0.0  1680.0   \n",
      "4     2010-01-07     2.60    28:00   0:28:00    0.0     28.0      0.0  1680.0   \n",
      "5     2010-01-11     1.30      NaN       NaN    NaN      NaN      NaN     NaN   \n",
      "6     2010-01-14     2.60    26:00   0:26:00    0.0     26.0      0.0  1560.0   \n",
      "7     2010-01-16     4.05    35:48   0:35:48    0.0     35.0     48.0  2148.0   \n",
      "8     2010-01-19     2.60    24:00   0:24:00    0.0     24.0      0.0  1440.0   \n",
      "9     2010-01-25     2.66    24:15   0:24:15    0.0     24.0     15.0  1455.0   \n",
      "...          ...      ...      ...       ...    ...      ...      ...     ...   \n",
      "2442  2020-03-01    16.23  1:46:56   1:46:56    1.0     46.0     56.0  6416.0   \n",
      "2443  2020-03-02     5.05    41:03   0:41:03    0.0     41.0      3.0  2463.0   \n",
      "2444  2020-03-03     8.27    59:25   0:59:25    0.0     59.0     25.0  3565.0   \n",
      "2445  2020-03-04     9.42  1:09:07   1:09:07    1.0      9.0      7.0  4147.0   \n",
      "2446  2020-03-05     8.05    58:14   0:58:14    0.0     58.0     14.0  3494.0   \n",
      "2447  2020-03-06    10.21  1:11:44   1:11:44    1.0     11.0     44.0  4304.0   \n",
      "2448  2020-03-07     8.11    57:36   0:57:36    0.0     57.0     36.0  3456.0   \n",
      "2449  2020-03-07     1.29     9:22    0:9:22    0.0      9.0     22.0   562.0   \n",
      "2450  2020-03-08    15.01  1:49:09   1:49:09    1.0     49.0      9.0  6549.0   \n",
      "2451  2020-03-09     6.32    46:44   0:46:44    0.0     46.0     44.0  2804.0   \n",
      "\n",
      "          pace_s   pace_min  \n",
      "0     573.548387   9.559140  \n",
      "1     442.258065   7.370968  \n",
      "2     784.615385  13.076923  \n",
      "3     646.153846  10.769231  \n",
      "4     646.153846  10.769231  \n",
      "5            NaN        NaN  \n",
      "6     600.000000  10.000000  \n",
      "7     530.370370   8.839506  \n",
      "8     553.846154   9.230769  \n",
      "9     546.992481   9.116541  \n",
      "...          ...        ...  \n",
      "2442  395.317314   6.588622  \n",
      "2443  487.722772   8.128713  \n",
      "2444  431.076179   7.184603  \n",
      "2445  440.233546   7.337226  \n",
      "2446  434.037267   7.233954  \n",
      "2447  421.547502   7.025792  \n",
      "2448  426.140567   7.102343  \n",
      "2449  435.658915   7.260982  \n",
      "2450  436.309127   7.271819  \n",
      "2451  443.670886   7.394515  \n",
      "\n",
      "[2452 rows x 10 columns]\n"
     ]
    }
   ],
   "source": [
    "df2.Date = df2.Date.astype(str)\n",
    "df2['Date'] = df2['Date'].str[:10]\n",
    "print(df2)"
   ]
  },
  {
   "cell_type": "markdown",
   "metadata": {},
   "source": [
    "As a final step before completing the data management process, I created a new dataframe df3 which subset df2 into only the columns I needed. Then I wanted to view the entire dataset to ensure that there were no hidden mistakes."
   ]
  },
  {
   "cell_type": "code",
   "execution_count": 31,
   "metadata": {},
   "outputs": [
    {
     "name": "stdout",
     "output_type": "stream",
     "text": [
      "            Date  Mileage time_corr  pace_min\n",
      "2442  2020-03-01    16.23   1:46:56  6.588622\n",
      "2443  2020-03-02     5.05   0:41:03  8.128713\n",
      "2444  2020-03-03     8.27   0:59:25  7.184603\n",
      "2445  2020-03-04     9.42   1:09:07  7.337226\n",
      "2446  2020-03-05     8.05   0:58:14  7.233954\n",
      "2447  2020-03-06    10.21   1:11:44  7.025792\n",
      "2448  2020-03-07     8.11   0:57:36  7.102343\n",
      "2449  2020-03-07     1.29    0:9:22  7.260982\n",
      "2450  2020-03-08    15.01   1:49:09  7.271819\n",
      "2451  2020-03-09     6.32   0:46:44  7.394515\n"
     ]
    }
   ],
   "source": [
    "df3 = df2[['Date','Mileage','time_corr','pace_min']]\n",
    "pd.options.display.max_rows=3000\n",
    "#print(df3)\n",
    "print(df3.tail(10))\n",
    "pd.options.display.max_rows=20"
   ]
  },
  {
   "cell_type": "markdown",
   "metadata": {},
   "source": [
    "Finally, I exported df3 to a csv so that I have externally saved changes. This csv will be read in at the beginning of the df_visualization and df_analysis ipynb's."
   ]
  },
  {
   "cell_type": "code",
   "execution_count": 32,
   "metadata": {},
   "outputs": [],
   "source": [
    "df3.to_csv(\"clean.csv\", index=False)"
   ]
  }
 ],
 "metadata": {
  "kernelspec": {
   "display_name": "Python 3",
   "language": "python",
   "name": "python3"
  },
  "language_info": {
   "codemirror_mode": {
    "name": "ipython",
    "version": 3
   },
   "file_extension": ".py",
   "mimetype": "text/x-python",
   "name": "python",
   "nbconvert_exporter": "python",
   "pygments_lexer": "ipython3",
   "version": "3.7.3"
  }
 },
 "nbformat": 4,
 "nbformat_minor": 4
}
