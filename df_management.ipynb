{
 "cells": [
  {
   "cell_type": "markdown",
   "metadata": {},
   "source": [
    "# Data Management"
   ]
  },
  {
   "cell_type": "code",
   "execution_count": 1,
   "metadata": {
    "tags": []
   },
   "outputs": [],
   "source": [
    "import pandas as pd\n",
    "import numpy as np\n",
    "import re"
   ]
  },
  {
   "cell_type": "markdown",
   "metadata": {},
   "source": [
    "The original dataframe \"df\" contains the date, distance, and runtime of each run from 2010-present. The goal of this data management process is to calculate a \"pace\" column from the distance and time of each run."
   ]
  },
  {
   "cell_type": "code",
   "execution_count": 2,
   "metadata": {
    "tags": []
   },
   "outputs": [],
   "source": [
    "df = pd.read_excel(\"Running_Log.xlsx\")"
   ]
  },
  {
   "cell_type": "code",
   "execution_count": 3,
   "metadata": {
    "tags": []
   },
   "outputs": [
    {
     "name": "stdout",
     "output_type": "stream",
     "text": [
      "            Date  Mileage   Time\n",
      "0     2009-01-05     1.00    NaN\n",
      "1     2009-04-25     3.10  29:38\n",
      "2     2009-11-21     3.10  22:51\n",
      "3     2010-01-04     1.30  17:00\n",
      "4     2010-01-05     2.60  28:00\n",
      "...          ...      ...    ...\n",
      "3337  2024-08-09     1.73   9:34\n",
      "3338  2024-08-09     2.87    NaN\n",
      "3339  2024-08-12     6.21  48:14\n",
      "3340  2024-08-13     6.27  44:32\n",
      "3341  2024-08-14     8.77    NaN\n",
      "\n",
      "[3342 rows x 3 columns]\n"
     ]
    }
   ],
   "source": [
    "pd.options.display.max_rows=20\n",
    "print(df)"
   ]
  },
  {
   "cell_type": "markdown",
   "metadata": {},
   "source": [
    "The main obstacle in creating a pace column is that it is not easy to do math with times in mm:ss format. So the \"Time\" column must be reformatted into minutes, with fractions of minutes put in decimal format (e.g. instead of \"29:38\", output = \"29.633\")."
   ]
  },
  {
   "cell_type": "code",
   "execution_count": 4,
   "metadata": {
    "tags": []
   },
   "outputs": [
    {
     "name": "stdout",
     "output_type": "stream",
     "text": [
      "            Date  Mileage   Time\n",
      "0     2009-01-05     1.00    NaN\n",
      "1389  2016-11-26     6.13  46:34\n"
     ]
    }
   ],
   "source": [
    "print(df.iloc[[0,1389]])"
   ]
  },
  {
   "cell_type": "markdown",
   "metadata": {},
   "source": [
    "However, as can be seen above, some of my runs lasted longer than an hour and were thus input in h:mm:ss format. When I attempted to delimit the col by \":\", the \"1\" (hour) in row 1389 was put in the same column as the \"29\" (minutes) in row 0.\n",
    "\n",
    "To work around this problem, I computed a new col \"time_h\" with a standardized time format of \"h:mm:ss\" as seen below. I added an assert() statement to ensure that all data points in \"time_h\" started with a number and then a colon, as I had intended."
   ]
  },
  {
   "cell_type": "code",
   "execution_count": 5,
   "metadata": {
    "tags": []
   },
   "outputs": [
    {
     "name": "stdout",
     "output_type": "stream",
     "text": [
      "            Date  Mileage   Time   time_h\n",
      "0     2009-01-05     1.00    NaN      NaN\n",
      "1389  2016-11-26     6.13  46:34  0:46:34\n"
     ]
    }
   ],
   "source": [
    "# added new col to standardize format of time var as \"h:mm:ss\"\n",
    "df[\"time_h\"] = np.where(df.Time.str.contains('\\d:\\d\\d:\\d\\d', regex = True), df[\"Time\"], \"0:\" + df[\"Time\"])\n",
    "print(df.iloc[[0,1389]])\n",
    "\n",
    "testseries = df['time_h'].dropna()\n",
    "for i in testseries:\n",
    "    assert(re.match('\\d:*', i))"
   ]
  },
  {
   "cell_type": "markdown",
   "metadata": {},
   "source": [
    "Then I created a new dataframe where df['time_h'] was delimited by \":\" into three columns.\n",
    "\n",
    "Next, I merged the \"new\" dataframe with the \"df\" dataframe and called the resulting dataframe \"result\".\n",
    "\n",
    "Finally, I created \"df2\" from \"result\" and renamed the vars from \"new\" to be \"hours\", \"minutes\", and \"seconds\".\n",
    "\n",
    "These changes can be seen in the following three sections of code."
   ]
  },
  {
   "cell_type": "code",
   "execution_count": 6,
   "metadata": {
    "tags": []
   },
   "outputs": [
    {
     "name": "stdout",
     "output_type": "stream",
     "text": [
      "        0    1    2\n",
      "0     NaN  NaN  NaN\n",
      "1       0   29   38\n",
      "2       0   22   51\n",
      "3       0   17   00\n",
      "4       0   28   00\n",
      "...   ...  ...  ...\n",
      "3337    0    9   34\n",
      "3338  NaN  NaN  NaN\n",
      "3339    0   48   14\n",
      "3340    0   44   32\n",
      "3341  NaN  NaN  NaN\n",
      "\n",
      "[3342 rows x 3 columns]\n"
     ]
    }
   ],
   "source": [
    "# created new dataframe with \"time_h\" col expanded into hr, min, and sec vars\n",
    "new = df[\"time_h\"].str.split(pat = \":\", expand = True)\n",
    "print(new)"
   ]
  },
  {
   "cell_type": "code",
   "execution_count": 7,
   "metadata": {
    "tags": []
   },
   "outputs": [
    {
     "name": "stdout",
     "output_type": "stream",
     "text": [
      "            Date  Mileage   Time   time_h    0    1    2\n",
      "0     2009-01-05     1.00    NaN      NaN  NaN  NaN  NaN\n",
      "1     2009-04-25     3.10  29:38  0:29:38    0   29   38\n",
      "2     2009-11-21     3.10  22:51  0:22:51    0   22   51\n",
      "3     2010-01-04     1.30  17:00  0:17:00    0   17   00\n",
      "4     2010-01-05     2.60  28:00  0:28:00    0   28   00\n",
      "...          ...      ...    ...      ...  ...  ...  ...\n",
      "3337  2024-08-09     1.73   9:34   0:9:34    0    9   34\n",
      "3338  2024-08-09     2.87    NaN      NaN  NaN  NaN  NaN\n",
      "3339  2024-08-12     6.21  48:14  0:48:14    0   48   14\n",
      "3340  2024-08-13     6.27  44:32  0:44:32    0   44   32\n",
      "3341  2024-08-14     8.77    NaN      NaN  NaN  NaN  NaN\n",
      "\n",
      "[3342 rows x 7 columns]\n"
     ]
    }
   ],
   "source": [
    "result = pd.concat([df, new], axis=1, sort=False)\n",
    "print(result)"
   ]
  },
  {
   "cell_type": "code",
   "execution_count": 8,
   "metadata": {
    "tags": []
   },
   "outputs": [
    {
     "name": "stdout",
     "output_type": "stream",
     "text": [
      "            Date  Mileage   Time time_corr hours minutes seconds\n",
      "0     2009-01-05     1.00    NaN       NaN   NaN     NaN     NaN\n",
      "1     2009-04-25     3.10  29:38   0:29:38     0      29      38\n",
      "2     2009-11-21     3.10  22:51   0:22:51     0      22      51\n",
      "3     2010-01-04     1.30  17:00   0:17:00     0      17      00\n",
      "4     2010-01-05     2.60  28:00   0:28:00     0      28      00\n",
      "...          ...      ...    ...       ...   ...     ...     ...\n",
      "3337  2024-08-09     1.73   9:34    0:9:34     0       9      34\n",
      "3338  2024-08-09     2.87    NaN       NaN   NaN     NaN     NaN\n",
      "3339  2024-08-12     6.21  48:14   0:48:14     0      48      14\n",
      "3340  2024-08-13     6.27  44:32   0:44:32     0      44      32\n",
      "3341  2024-08-14     8.77    NaN       NaN   NaN     NaN     NaN\n",
      "\n",
      "[3342 rows x 7 columns]\n"
     ]
    }
   ],
   "source": [
    "df2 = result.rename(columns={\"time_h\": \"time_corr\", 0: \"hours\", 1: \"minutes\", 2: \"seconds\"})\n",
    "print(df2)"
   ]
  },
  {
   "cell_type": "markdown",
   "metadata": {},
   "source": [
    "To calculate pace, I needed to get my three time columns into numeric format.\n",
    "\n",
    "Then I needed to combine them back into one time variable in seconds."
   ]
  },
  {
   "cell_type": "code",
   "execution_count": 9,
   "metadata": {
    "tags": []
   },
   "outputs": [],
   "source": [
    "df2['hours'] = pd.to_numeric(df2['hours'])\n",
    "df2['minutes'] = pd.to_numeric(df2['minutes'])\n",
    "df2['seconds'] = pd.to_numeric(df2['seconds'])"
   ]
  },
  {
   "cell_type": "code",
   "execution_count": 10,
   "metadata": {
    "tags": []
   },
   "outputs": [
    {
     "name": "stdout",
     "output_type": "stream",
     "text": [
      "            Date  Mileage   Time time_corr  hours  minutes  seconds  time_s\n",
      "0     2009-01-05     1.00    NaN       NaN    NaN      NaN      NaN     NaN\n",
      "1     2009-04-25     3.10  29:38   0:29:38    0.0     29.0     38.0  1778.0\n",
      "2     2009-11-21     3.10  22:51   0:22:51    0.0     22.0     51.0  1371.0\n",
      "3     2010-01-04     1.30  17:00   0:17:00    0.0     17.0      0.0  1020.0\n",
      "4     2010-01-05     2.60  28:00   0:28:00    0.0     28.0      0.0  1680.0\n",
      "...          ...      ...    ...       ...    ...      ...      ...     ...\n",
      "3337  2024-08-09     1.73   9:34    0:9:34    0.0      9.0     34.0   574.0\n",
      "3338  2024-08-09     2.87    NaN       NaN    NaN      NaN      NaN     NaN\n",
      "3339  2024-08-12     6.21  48:14   0:48:14    0.0     48.0     14.0  2894.0\n",
      "3340  2024-08-13     6.27  44:32   0:44:32    0.0     44.0     32.0  2672.0\n",
      "3341  2024-08-14     8.77    NaN       NaN    NaN      NaN      NaN     NaN\n",
      "\n",
      "[3342 rows x 8 columns]\n"
     ]
    }
   ],
   "source": [
    "time_seconds = df2.hours*3600 + df2.minutes*60 + df2.seconds\n",
    "df2['time_s'] = time_seconds\n",
    "print(df2)"
   ]
  },
  {
   "cell_type": "markdown",
   "metadata": {},
   "source": [
    "At last, I was able to calculate pace (after converting the column for distance to numeric format). I first calculated it in seconds-per-mile.\n",
    "\n",
    "Then I created a new column in which the units for pace were a more meaningful minutes-per-mile."
   ]
  },
  {
   "cell_type": "code",
   "execution_count": 11,
   "metadata": {
    "tags": []
   },
   "outputs": [
    {
     "name": "stdout",
     "output_type": "stream",
     "text": [
      "            Date  Mileage   Time time_corr  hours  minutes  seconds  time_s  \\\n",
      "0     2009-01-05     1.00    NaN       NaN    NaN      NaN      NaN     NaN   \n",
      "1     2009-04-25     3.10  29:38   0:29:38    0.0     29.0     38.0  1778.0   \n",
      "2     2009-11-21     3.10  22:51   0:22:51    0.0     22.0     51.0  1371.0   \n",
      "3     2010-01-04     1.30  17:00   0:17:00    0.0     17.0      0.0  1020.0   \n",
      "4     2010-01-05     2.60  28:00   0:28:00    0.0     28.0      0.0  1680.0   \n",
      "...          ...      ...    ...       ...    ...      ...      ...     ...   \n",
      "3337  2024-08-09     1.73   9:34    0:9:34    0.0      9.0     34.0   574.0   \n",
      "3338  2024-08-09     2.87    NaN       NaN    NaN      NaN      NaN     NaN   \n",
      "3339  2024-08-12     6.21  48:14   0:48:14    0.0     48.0     14.0  2894.0   \n",
      "3340  2024-08-13     6.27  44:32   0:44:32    0.0     44.0     32.0  2672.0   \n",
      "3341  2024-08-14     8.77    NaN       NaN    NaN      NaN      NaN     NaN   \n",
      "\n",
      "          pace_s  \n",
      "0            NaN  \n",
      "1     573.548387  \n",
      "2     442.258065  \n",
      "3     784.615385  \n",
      "4     646.153846  \n",
      "...          ...  \n",
      "3337  331.791908  \n",
      "3338         NaN  \n",
      "3339  466.022544  \n",
      "3340  426.156300  \n",
      "3341         NaN  \n",
      "\n",
      "[3342 rows x 9 columns]\n"
     ]
    }
   ],
   "source": [
    "df2['Mileage'] = pd.to_numeric(df2['Mileage'])\n",
    "pace_s = df2.time_s / df2.Mileage\n",
    "df2['pace_s'] = pace_s\n",
    "print(df2)"
   ]
  },
  {
   "cell_type": "code",
   "execution_count": 12,
   "metadata": {
    "tags": []
   },
   "outputs": [
    {
     "name": "stdout",
     "output_type": "stream",
     "text": [
      "            Date  Mileage   Time time_corr  hours  minutes  seconds  time_s  \\\n",
      "0     2009-01-05     1.00    NaN       NaN    NaN      NaN      NaN     NaN   \n",
      "1     2009-04-25     3.10  29:38   0:29:38    0.0     29.0     38.0  1778.0   \n",
      "2     2009-11-21     3.10  22:51   0:22:51    0.0     22.0     51.0  1371.0   \n",
      "3     2010-01-04     1.30  17:00   0:17:00    0.0     17.0      0.0  1020.0   \n",
      "4     2010-01-05     2.60  28:00   0:28:00    0.0     28.0      0.0  1680.0   \n",
      "...          ...      ...    ...       ...    ...      ...      ...     ...   \n",
      "3337  2024-08-09     1.73   9:34    0:9:34    0.0      9.0     34.0   574.0   \n",
      "3338  2024-08-09     2.87    NaN       NaN    NaN      NaN      NaN     NaN   \n",
      "3339  2024-08-12     6.21  48:14   0:48:14    0.0     48.0     14.0  2894.0   \n",
      "3340  2024-08-13     6.27  44:32   0:44:32    0.0     44.0     32.0  2672.0   \n",
      "3341  2024-08-14     8.77    NaN       NaN    NaN      NaN      NaN     NaN   \n",
      "\n",
      "          pace_s   pace_min  \n",
      "0            NaN        NaN  \n",
      "1     573.548387   9.559140  \n",
      "2     442.258065   7.370968  \n",
      "3     784.615385  13.076923  \n",
      "4     646.153846  10.769231  \n",
      "...          ...        ...  \n",
      "3337  331.791908   5.529865  \n",
      "3338         NaN        NaN  \n",
      "3339  466.022544   7.767042  \n",
      "3340  426.156300   7.102605  \n",
      "3341         NaN        NaN  \n",
      "\n",
      "[3342 rows x 10 columns]\n"
     ]
    }
   ],
   "source": [
    "pace_min = df2.pace_s / 60\n",
    "df2['pace_min'] = pace_min\n",
    "print(df2)"
   ]
  },
  {
   "cell_type": "markdown",
   "metadata": {},
   "source": [
    "I noticed that, due to some input errors in the original excel file, the formatting for all values in the \"Date\" column between the years 2012 and 2014 included the time of day (which, as I had never input that, ended up as a bunch of zeros at the end of the cell, as can be seen below in row 800).\n",
    "\n",
    "I fixed this by changing the Date column to string format and then keeping only the first ten characters in each cell of that column."
   ]
  },
  {
   "cell_type": "code",
   "execution_count": 13,
   "metadata": {
    "tags": []
   },
   "outputs": [
    {
     "name": "stdout",
     "output_type": "stream",
     "text": [
      "                    Date  Mileage   Time time_corr  hours  minutes  seconds  \\\n",
      "0             2009-01-05      1.0    NaN       NaN    NaN      NaN      NaN   \n",
      "800  2014-12-15 00:00:00      6.3  46:22   0:46:22    0.0     46.0     22.0   \n",
      "\n",
      "     time_s      pace_s  pace_min  \n",
      "0       NaN         NaN       NaN  \n",
      "800  2782.0  441.587302  7.359788  \n"
     ]
    }
   ],
   "source": [
    "print(df2.iloc[[0,800]])"
   ]
  },
  {
   "cell_type": "code",
   "execution_count": 14,
   "metadata": {
    "tags": []
   },
   "outputs": [
    {
     "name": "stdout",
     "output_type": "stream",
     "text": [
      "            Date  Mileage   Time time_corr  hours  minutes  seconds  time_s  \\\n",
      "0     2009-01-05     1.00    NaN       NaN    NaN      NaN      NaN     NaN   \n",
      "1     2009-04-25     3.10  29:38   0:29:38    0.0     29.0     38.0  1778.0   \n",
      "2     2009-11-21     3.10  22:51   0:22:51    0.0     22.0     51.0  1371.0   \n",
      "3     2010-01-04     1.30  17:00   0:17:00    0.0     17.0      0.0  1020.0   \n",
      "4     2010-01-05     2.60  28:00   0:28:00    0.0     28.0      0.0  1680.0   \n",
      "...          ...      ...    ...       ...    ...      ...      ...     ...   \n",
      "3337  2024-08-09     1.73   9:34    0:9:34    0.0      9.0     34.0   574.0   \n",
      "3338  2024-08-09     2.87    NaN       NaN    NaN      NaN      NaN     NaN   \n",
      "3339  2024-08-12     6.21  48:14   0:48:14    0.0     48.0     14.0  2894.0   \n",
      "3340  2024-08-13     6.27  44:32   0:44:32    0.0     44.0     32.0  2672.0   \n",
      "3341  2024-08-14     8.77    NaN       NaN    NaN      NaN      NaN     NaN   \n",
      "\n",
      "          pace_s   pace_min  \n",
      "0            NaN        NaN  \n",
      "1     573.548387   9.559140  \n",
      "2     442.258065   7.370968  \n",
      "3     784.615385  13.076923  \n",
      "4     646.153846  10.769231  \n",
      "...          ...        ...  \n",
      "3337  331.791908   5.529865  \n",
      "3338         NaN        NaN  \n",
      "3339  466.022544   7.767042  \n",
      "3340  426.156300   7.102605  \n",
      "3341         NaN        NaN  \n",
      "\n",
      "[3342 rows x 10 columns]\n"
     ]
    }
   ],
   "source": [
    "df2.Date = df2.Date.astype(str)\n",
    "df2['Date'] = df2['Date'].str[:10]\n",
    "print(df2)"
   ]
  },
  {
   "cell_type": "markdown",
   "metadata": {},
   "source": [
    "As a final step before completing the data management process, I created a new dataframe df3 which subset df2 into only the columns I needed. Then I wanted to view the entire dataset to ensure that there were no hidden mistakes."
   ]
  },
  {
   "cell_type": "code",
   "execution_count": 15,
   "metadata": {
    "tags": []
   },
   "outputs": [
    {
     "name": "stdout",
     "output_type": "stream",
     "text": [
      "            Date  Mileage time_corr  pace_min\n",
      "3332  2024-08-02     8.32   0:56:41  6.812901\n",
      "3333  2024-08-05     5.18   0:42:47  8.259331\n",
      "3334  2024-08-06     5.01   0:42:49  8.546241\n",
      "3335  2024-08-07     8.56   1:00:50  7.106698\n",
      "3336  2024-08-08     4.44   0:33:12  7.477477\n",
      "3337  2024-08-09     1.73    0:9:34  5.529865\n",
      "3338  2024-08-09     2.87       NaN       NaN\n",
      "3339  2024-08-12     6.21   0:48:14  7.767042\n",
      "3340  2024-08-13     6.27   0:44:32  7.102605\n",
      "3341  2024-08-14     8.77       NaN       NaN\n"
     ]
    }
   ],
   "source": [
    "df3 = df2[['Date','Mileage','time_corr','pace_min']]\n",
    "pd.options.display.max_rows=3000\n",
    "#print(df3)\n",
    "print(df3.tail(10))\n",
    "pd.options.display.max_rows=20"
   ]
  },
  {
   "cell_type": "markdown",
   "metadata": {},
   "source": [
    "Finally, I exported df3 to a csv so that I have externally saved changes. This csv will be read in at the beginning of the df_visualization and df_analysis ipynb's."
   ]
  },
  {
   "cell_type": "code",
   "execution_count": 16,
   "metadata": {
    "tags": []
   },
   "outputs": [],
   "source": [
    "df3.to_csv(\"clean.csv\", index=False)"
   ]
  },
  {
   "cell_type": "code",
   "execution_count": null,
   "metadata": {},
   "outputs": [],
   "source": []
  }
 ],
 "metadata": {
  "kernelspec": {
   "display_name": "Python 3 (ipykernel)",
   "language": "python",
   "name": "python3"
  },
  "language_info": {
   "codemirror_mode": {
    "name": "ipython",
    "version": 3
   },
   "file_extension": ".py",
   "mimetype": "text/x-python",
   "name": "python",
   "nbconvert_exporter": "python",
   "pygments_lexer": "ipython3",
   "version": "3.11.5"
  }
 },
 "nbformat": 4,
 "nbformat_minor": 4
}
