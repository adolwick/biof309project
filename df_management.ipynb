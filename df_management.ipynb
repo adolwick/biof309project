{
 "cells": [
  {
   "cell_type": "markdown",
   "metadata": {},
   "source": [
    "# Data Management"
   ]
  },
  {
   "cell_type": "code",
   "execution_count": 1,
   "metadata": {
    "tags": []
   },
   "outputs": [],
   "source": [
    "import pandas as pd\n",
    "import numpy as np\n",
    "import re"
   ]
  },
  {
   "cell_type": "markdown",
   "metadata": {},
   "source": [
    "The original dataframe \"df\" contains the date, distance, and runtime of each run from 2010-present. The goal of this data management process is to calculate a \"pace\" column from the distance and time of each run."
   ]
  },
  {
   "cell_type": "code",
   "execution_count": 2,
   "metadata": {
    "tags": []
   },
   "outputs": [],
   "source": [
    "df = pd.read_excel(\"Running_Log.xlsx\")"
   ]
  },
  {
   "cell_type": "code",
   "execution_count": 3,
   "metadata": {
    "tags": []
   },
   "outputs": [
    {
     "name": "stdout",
     "output_type": "stream",
     "text": [
      "            Date  Mileage     Time\n",
      "0     2009-01-05      1.0      NaN\n",
      "1     2009-04-25      3.1    29:38\n",
      "2     2009-11-21      3.1    22:51\n",
      "3     2010-01-04      1.3    17:00\n",
      "4     2010-01-05      2.6    28:00\n",
      "...          ...      ...      ...\n",
      "3413  2024-12-26      8.0    57:02\n",
      "3414  2024-12-27      5.0    36:17\n",
      "3415  2024-12-28     11.0  1:17:20\n",
      "3416  2024-12-30      4.0    33:03\n",
      "3417  2024-12-31      7.0    53:04\n",
      "\n",
      "[3418 rows x 3 columns]\n"
     ]
    }
   ],
   "source": [
    "pd.options.display.max_rows=20\n",
    "print(df)"
   ]
  },
  {
   "cell_type": "markdown",
   "metadata": {},
   "source": [
    "The main obstacle in creating a pace column is that it is not easy to do math with times in mm:ss format. So the \"Time\" column must be reformatted into minutes, with fractions of minutes put in decimal format (e.g. instead of \"29:38\", output = \"29.633\")."
   ]
  },
  {
   "cell_type": "code",
   "execution_count": 4,
   "metadata": {
    "tags": []
   },
   "outputs": [
    {
     "name": "stdout",
     "output_type": "stream",
     "text": [
      "            Date  Mileage   Time\n",
      "0     2009-01-05     1.00    NaN\n",
      "1389  2016-11-26     6.13  46:34\n"
     ]
    }
   ],
   "source": [
    "print(df.iloc[[0,1389]])"
   ]
  },
  {
   "cell_type": "markdown",
   "metadata": {},
   "source": [
    "However, as can be seen above, some of my runs lasted longer than an hour and were thus input in h:mm:ss format. When I attempted to delimit the col by \":\", the \"1\" (hour) in row 1389 was put in the same column as the \"29\" (minutes) in row 0.\n",
    "\n",
    "To work around this problem, I computed a new col \"time_h\" with a standardized time format of \"h:mm:ss\" as seen below. I added an assert() statement to ensure that all data points in \"time_h\" started with a number and then a colon, as I had intended."
   ]
  },
  {
   "cell_type": "code",
   "execution_count": 5,
   "metadata": {
    "tags": []
   },
   "outputs": [
    {
     "name": "stdout",
     "output_type": "stream",
     "text": [
      "            Date  Mileage   Time   time_h\n",
      "0     2009-01-05     1.00    NaN      NaN\n",
      "1389  2016-11-26     6.13  46:34  0:46:34\n"
     ]
    }
   ],
   "source": [
    "# added new col to standardize format of time var as \"h:mm:ss\"\n",
    "df[\"time_h\"] = np.where(df.Time.str.contains('\\d:\\d\\d:\\d\\d', regex = True), df[\"Time\"], \"0:\" + df[\"Time\"])\n",
    "print(df.iloc[[0,1389]])\n",
    "\n",
    "testseries = df['time_h'].dropna()\n",
    "for i in testseries:\n",
    "    assert(re.match('\\d:*', i))"
   ]
  },
  {
   "cell_type": "markdown",
   "metadata": {},
   "source": [
    "Then I created a new dataframe where df['time_h'] was delimited by \":\" into three columns.\n",
    "\n",
    "Next, I merged the \"new\" dataframe with the \"df\" dataframe and called the resulting dataframe \"result\".\n",
    "\n",
    "Finally, I created \"df2\" from \"result\" and renamed the vars from \"new\" to be \"hours\", \"minutes\", and \"seconds\".\n",
    "\n",
    "These changes can be seen in the following three sections of code."
   ]
  },
  {
   "cell_type": "code",
   "execution_count": 6,
   "metadata": {
    "tags": []
   },
   "outputs": [
    {
     "name": "stdout",
     "output_type": "stream",
     "text": [
      "        0    1    2\n",
      "0     NaN  NaN  NaN\n",
      "1       0   29   38\n",
      "2       0   22   51\n",
      "3       0   17   00\n",
      "4       0   28   00\n",
      "...   ...  ...  ...\n",
      "3413    0   57   02\n",
      "3414    0   36   17\n",
      "3415    1   17   20\n",
      "3416    0   33   03\n",
      "3417    0   53   04\n",
      "\n",
      "[3418 rows x 3 columns]\n"
     ]
    }
   ],
   "source": [
    "# created new dataframe with \"time_h\" col expanded into hr, min, and sec vars\n",
    "new = df[\"time_h\"].str.split(pat = \":\", expand = True)\n",
    "print(new)"
   ]
  },
  {
   "cell_type": "code",
   "execution_count": 7,
   "metadata": {
    "tags": []
   },
   "outputs": [
    {
     "name": "stdout",
     "output_type": "stream",
     "text": [
      "            Date  Mileage     Time   time_h    0    1    2\n",
      "0     2009-01-05      1.0      NaN      NaN  NaN  NaN  NaN\n",
      "1     2009-04-25      3.1    29:38  0:29:38    0   29   38\n",
      "2     2009-11-21      3.1    22:51  0:22:51    0   22   51\n",
      "3     2010-01-04      1.3    17:00  0:17:00    0   17   00\n",
      "4     2010-01-05      2.6    28:00  0:28:00    0   28   00\n",
      "...          ...      ...      ...      ...  ...  ...  ...\n",
      "3413  2024-12-26      8.0    57:02  0:57:02    0   57   02\n",
      "3414  2024-12-27      5.0    36:17  0:36:17    0   36   17\n",
      "3415  2024-12-28     11.0  1:17:20  1:17:20    1   17   20\n",
      "3416  2024-12-30      4.0    33:03  0:33:03    0   33   03\n",
      "3417  2024-12-31      7.0    53:04  0:53:04    0   53   04\n",
      "\n",
      "[3418 rows x 7 columns]\n"
     ]
    }
   ],
   "source": [
    "result = pd.concat([df, new], axis=1, sort=False)\n",
    "print(result)"
   ]
  },
  {
   "cell_type": "code",
   "execution_count": 8,
   "metadata": {
    "tags": []
   },
   "outputs": [
    {
     "name": "stdout",
     "output_type": "stream",
     "text": [
      "            Date  Mileage     Time time_corr hours minutes seconds\n",
      "0     2009-01-05      1.0      NaN       NaN   NaN     NaN     NaN\n",
      "1     2009-04-25      3.1    29:38   0:29:38     0      29      38\n",
      "2     2009-11-21      3.1    22:51   0:22:51     0      22      51\n",
      "3     2010-01-04      1.3    17:00   0:17:00     0      17      00\n",
      "4     2010-01-05      2.6    28:00   0:28:00     0      28      00\n",
      "...          ...      ...      ...       ...   ...     ...     ...\n",
      "3413  2024-12-26      8.0    57:02   0:57:02     0      57      02\n",
      "3414  2024-12-27      5.0    36:17   0:36:17     0      36      17\n",
      "3415  2024-12-28     11.0  1:17:20   1:17:20     1      17      20\n",
      "3416  2024-12-30      4.0    33:03   0:33:03     0      33      03\n",
      "3417  2024-12-31      7.0    53:04   0:53:04     0      53      04\n",
      "\n",
      "[3418 rows x 7 columns]\n"
     ]
    }
   ],
   "source": [
    "df2 = result.rename(columns={\"time_h\": \"time_corr\", 0: \"hours\", 1: \"minutes\", 2: \"seconds\"})\n",
    "print(df2)"
   ]
  },
  {
   "cell_type": "markdown",
   "metadata": {},
   "source": [
    "To calculate pace, I needed to get my three time columns into numeric format.\n",
    "\n",
    "Then I needed to combine them back into one time variable in seconds."
   ]
  },
  {
   "cell_type": "code",
   "execution_count": 9,
   "metadata": {
    "tags": []
   },
   "outputs": [],
   "source": [
    "df2['hours'] = pd.to_numeric(df2['hours'])\n",
    "df2['minutes'] = pd.to_numeric(df2['minutes'])\n",
    "df2['seconds'] = pd.to_numeric(df2['seconds'])"
   ]
  },
  {
   "cell_type": "code",
   "execution_count": 10,
   "metadata": {
    "tags": []
   },
   "outputs": [
    {
     "name": "stdout",
     "output_type": "stream",
     "text": [
      "            Date  Mileage     Time time_corr  hours  minutes  seconds  time_s\n",
      "0     2009-01-05      1.0      NaN       NaN    NaN      NaN      NaN     NaN\n",
      "1     2009-04-25      3.1    29:38   0:29:38    0.0     29.0     38.0  1778.0\n",
      "2     2009-11-21      3.1    22:51   0:22:51    0.0     22.0     51.0  1371.0\n",
      "3     2010-01-04      1.3    17:00   0:17:00    0.0     17.0      0.0  1020.0\n",
      "4     2010-01-05      2.6    28:00   0:28:00    0.0     28.0      0.0  1680.0\n",
      "...          ...      ...      ...       ...    ...      ...      ...     ...\n",
      "3413  2024-12-26      8.0    57:02   0:57:02    0.0     57.0      2.0  3422.0\n",
      "3414  2024-12-27      5.0    36:17   0:36:17    0.0     36.0     17.0  2177.0\n",
      "3415  2024-12-28     11.0  1:17:20   1:17:20    1.0     17.0     20.0  4640.0\n",
      "3416  2024-12-30      4.0    33:03   0:33:03    0.0     33.0      3.0  1983.0\n",
      "3417  2024-12-31      7.0    53:04   0:53:04    0.0     53.0      4.0  3184.0\n",
      "\n",
      "[3418 rows x 8 columns]\n"
     ]
    }
   ],
   "source": [
    "time_seconds = df2.hours*3600 + df2.minutes*60 + df2.seconds\n",
    "df2['time_s'] = time_seconds\n",
    "print(df2)"
   ]
  },
  {
   "cell_type": "markdown",
   "metadata": {},
   "source": [
    "At last, I was able to calculate pace (after converting the column for distance to numeric format). I first calculated it in seconds-per-mile.\n",
    "\n",
    "Then I created a new column in which the units for pace were a more meaningful minutes-per-mile."
   ]
  },
  {
   "cell_type": "code",
   "execution_count": 11,
   "metadata": {
    "tags": []
   },
   "outputs": [
    {
     "name": "stdout",
     "output_type": "stream",
     "text": [
      "            Date  Mileage     Time time_corr  hours  minutes  seconds  time_s  \\\n",
      "0     2009-01-05      1.0      NaN       NaN    NaN      NaN      NaN     NaN   \n",
      "1     2009-04-25      3.1    29:38   0:29:38    0.0     29.0     38.0  1778.0   \n",
      "2     2009-11-21      3.1    22:51   0:22:51    0.0     22.0     51.0  1371.0   \n",
      "3     2010-01-04      1.3    17:00   0:17:00    0.0     17.0      0.0  1020.0   \n",
      "4     2010-01-05      2.6    28:00   0:28:00    0.0     28.0      0.0  1680.0   \n",
      "...          ...      ...      ...       ...    ...      ...      ...     ...   \n",
      "3413  2024-12-26      8.0    57:02   0:57:02    0.0     57.0      2.0  3422.0   \n",
      "3414  2024-12-27      5.0    36:17   0:36:17    0.0     36.0     17.0  2177.0   \n",
      "3415  2024-12-28     11.0  1:17:20   1:17:20    1.0     17.0     20.0  4640.0   \n",
      "3416  2024-12-30      4.0    33:03   0:33:03    0.0     33.0      3.0  1983.0   \n",
      "3417  2024-12-31      7.0    53:04   0:53:04    0.0     53.0      4.0  3184.0   \n",
      "\n",
      "          pace_s  \n",
      "0            NaN  \n",
      "1     573.548387  \n",
      "2     442.258065  \n",
      "3     784.615385  \n",
      "4     646.153846  \n",
      "...          ...  \n",
      "3413  427.750000  \n",
      "3414  435.400000  \n",
      "3415  421.818182  \n",
      "3416  495.750000  \n",
      "3417  454.857143  \n",
      "\n",
      "[3418 rows x 9 columns]\n"
     ]
    }
   ],
   "source": [
    "df2['Mileage'] = pd.to_numeric(df2['Mileage'])\n",
    "pace_s = df2.time_s / df2.Mileage\n",
    "df2['pace_s'] = pace_s\n",
    "print(df2)"
   ]
  },
  {
   "cell_type": "code",
   "execution_count": 12,
   "metadata": {
    "tags": []
   },
   "outputs": [
    {
     "name": "stdout",
     "output_type": "stream",
     "text": [
      "            Date  Mileage     Time time_corr  hours  minutes  seconds  time_s  \\\n",
      "0     2009-01-05      1.0      NaN       NaN    NaN      NaN      NaN     NaN   \n",
      "1     2009-04-25      3.1    29:38   0:29:38    0.0     29.0     38.0  1778.0   \n",
      "2     2009-11-21      3.1    22:51   0:22:51    0.0     22.0     51.0  1371.0   \n",
      "3     2010-01-04      1.3    17:00   0:17:00    0.0     17.0      0.0  1020.0   \n",
      "4     2010-01-05      2.6    28:00   0:28:00    0.0     28.0      0.0  1680.0   \n",
      "...          ...      ...      ...       ...    ...      ...      ...     ...   \n",
      "3413  2024-12-26      8.0    57:02   0:57:02    0.0     57.0      2.0  3422.0   \n",
      "3414  2024-12-27      5.0    36:17   0:36:17    0.0     36.0     17.0  2177.0   \n",
      "3415  2024-12-28     11.0  1:17:20   1:17:20    1.0     17.0     20.0  4640.0   \n",
      "3416  2024-12-30      4.0    33:03   0:33:03    0.0     33.0      3.0  1983.0   \n",
      "3417  2024-12-31      7.0    53:04   0:53:04    0.0     53.0      4.0  3184.0   \n",
      "\n",
      "          pace_s   pace_min  \n",
      "0            NaN        NaN  \n",
      "1     573.548387   9.559140  \n",
      "2     442.258065   7.370968  \n",
      "3     784.615385  13.076923  \n",
      "4     646.153846  10.769231  \n",
      "...          ...        ...  \n",
      "3413  427.750000   7.129167  \n",
      "3414  435.400000   7.256667  \n",
      "3415  421.818182   7.030303  \n",
      "3416  495.750000   8.262500  \n",
      "3417  454.857143   7.580952  \n",
      "\n",
      "[3418 rows x 10 columns]\n"
     ]
    }
   ],
   "source": [
    "pace_min = df2.pace_s / 60\n",
    "df2['pace_min'] = pace_min\n",
    "print(df2)"
   ]
  },
  {
   "cell_type": "markdown",
   "metadata": {},
   "source": [
    "I noticed that, due to some input errors in the original excel file, the formatting for all values in the \"Date\" column between the years 2012 and 2014 included the time of day (which, as I had never input that, ended up as a bunch of zeros at the end of the cell, as can be seen below in row 800).\n",
    "\n",
    "I fixed this by changing the Date column to string format and then keeping only the first ten characters in each cell of that column."
   ]
  },
  {
   "cell_type": "code",
   "execution_count": 13,
   "metadata": {
    "tags": []
   },
   "outputs": [
    {
     "name": "stdout",
     "output_type": "stream",
     "text": [
      "                    Date  Mileage   Time time_corr  hours  minutes  seconds  \\\n",
      "0             2009-01-05      1.0    NaN       NaN    NaN      NaN      NaN   \n",
      "800  2014-12-15 00:00:00      6.3  46:22   0:46:22    0.0     46.0     22.0   \n",
      "\n",
      "     time_s      pace_s  pace_min  \n",
      "0       NaN         NaN       NaN  \n",
      "800  2782.0  441.587302  7.359788  \n"
     ]
    }
   ],
   "source": [
    "print(df2.iloc[[0,800]])"
   ]
  },
  {
   "cell_type": "code",
   "execution_count": 14,
   "metadata": {
    "tags": []
   },
   "outputs": [
    {
     "name": "stdout",
     "output_type": "stream",
     "text": [
      "            Date  Mileage     Time time_corr  hours  minutes  seconds  time_s  \\\n",
      "0     2009-01-05      1.0      NaN       NaN    NaN      NaN      NaN     NaN   \n",
      "1     2009-04-25      3.1    29:38   0:29:38    0.0     29.0     38.0  1778.0   \n",
      "2     2009-11-21      3.1    22:51   0:22:51    0.0     22.0     51.0  1371.0   \n",
      "3     2010-01-04      1.3    17:00   0:17:00    0.0     17.0      0.0  1020.0   \n",
      "4     2010-01-05      2.6    28:00   0:28:00    0.0     28.0      0.0  1680.0   \n",
      "...          ...      ...      ...       ...    ...      ...      ...     ...   \n",
      "3413  2024-12-26      8.0    57:02   0:57:02    0.0     57.0      2.0  3422.0   \n",
      "3414  2024-12-27      5.0    36:17   0:36:17    0.0     36.0     17.0  2177.0   \n",
      "3415  2024-12-28     11.0  1:17:20   1:17:20    1.0     17.0     20.0  4640.0   \n",
      "3416  2024-12-30      4.0    33:03   0:33:03    0.0     33.0      3.0  1983.0   \n",
      "3417  2024-12-31      7.0    53:04   0:53:04    0.0     53.0      4.0  3184.0   \n",
      "\n",
      "          pace_s   pace_min  \n",
      "0            NaN        NaN  \n",
      "1     573.548387   9.559140  \n",
      "2     442.258065   7.370968  \n",
      "3     784.615385  13.076923  \n",
      "4     646.153846  10.769231  \n",
      "...          ...        ...  \n",
      "3413  427.750000   7.129167  \n",
      "3414  435.400000   7.256667  \n",
      "3415  421.818182   7.030303  \n",
      "3416  495.750000   8.262500  \n",
      "3417  454.857143   7.580952  \n",
      "\n",
      "[3418 rows x 10 columns]\n"
     ]
    }
   ],
   "source": [
    "df2.Date = df2.Date.astype(str)\n",
    "df2['Date'] = df2['Date'].str[:10]\n",
    "print(df2)"
   ]
  },
  {
   "cell_type": "markdown",
   "metadata": {},
   "source": [
    "As a final step before completing the data management process, I created a new dataframe df3 which subset df2 into only the columns I needed. Then I wanted to view the entire dataset to ensure that there were no hidden mistakes."
   ]
  },
  {
   "cell_type": "code",
   "execution_count": 15,
   "metadata": {
    "tags": []
   },
   "outputs": [
    {
     "name": "stdout",
     "output_type": "stream",
     "text": [
      "            Date  Mileage time_corr  pace_min\n",
      "3408  2024-12-16     6.20   0:48:06  7.758065\n",
      "3409  2024-12-18     5.11   0:37:37  7.361383\n",
      "3410  2024-12-19     9.01   1:03:43  7.071772\n",
      "3411  2024-12-22     5.00   0:38:14  7.646667\n",
      "3412  2024-12-23     6.28   0:43:18  6.894904\n",
      "3413  2024-12-26     8.00   0:57:02  7.129167\n",
      "3414  2024-12-27     5.00   0:36:17  7.256667\n",
      "3415  2024-12-28    11.00   1:17:20  7.030303\n",
      "3416  2024-12-30     4.00   0:33:03  8.262500\n",
      "3417  2024-12-31     7.00   0:53:04  7.580952\n"
     ]
    }
   ],
   "source": [
    "df3 = df2[['Date','Mileage','time_corr','pace_min']]\n",
    "pd.options.display.max_rows=3000\n",
    "#print(df3)\n",
    "print(df3.tail(10))\n",
    "pd.options.display.max_rows=20"
   ]
  },
  {
   "cell_type": "markdown",
   "metadata": {},
   "source": [
    "Finally, I exported df3 to a csv so that I have externally saved changes. This csv will be read in at the beginning of the df_visualization and df_analysis ipynb's."
   ]
  },
  {
   "cell_type": "code",
   "execution_count": 16,
   "metadata": {
    "tags": []
   },
   "outputs": [],
   "source": [
    "df3.to_csv(\"clean.csv\", index=False)"
   ]
  },
  {
   "cell_type": "code",
   "execution_count": null,
   "metadata": {},
   "outputs": [],
   "source": []
  }
 ],
 "metadata": {
  "kernelspec": {
   "display_name": "Python 3 (ipykernel)",
   "language": "python",
   "name": "python3"
  },
  "language_info": {
   "codemirror_mode": {
    "name": "ipython",
    "version": 3
   },
   "file_extension": ".py",
   "mimetype": "text/x-python",
   "name": "python",
   "nbconvert_exporter": "python",
   "pygments_lexer": "ipython3",
   "version": "3.11.5"
  }
 },
 "nbformat": 4,
 "nbformat_minor": 4
}
