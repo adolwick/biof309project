{
 "cells": [
  {
   "cell_type": "markdown",
   "metadata": {},
   "source": [
    "# Data Management"
   ]
  },
  {
   "cell_type": "code",
   "execution_count": 24,
   "metadata": {},
   "outputs": [],
   "source": [
    "import pandas as pd\n",
    "import numpy as np\n",
    "import re"
   ]
  },
  {
   "cell_type": "markdown",
   "metadata": {},
   "source": [
    "The original dataframe \"df\" contains the date, distance, and runtime of each run from 2010-present. The goal of this data management process is to calculate a \"pace\" column from the distance and time of each run."
   ]
  },
  {
   "cell_type": "code",
   "execution_count": 25,
   "metadata": {},
   "outputs": [],
   "source": [
    "df = pd.read_excel(\"Running_Log.xlsx\")"
   ]
  },
  {
   "cell_type": "code",
   "execution_count": 26,
   "metadata": {},
   "outputs": [
    {
     "name": "stdout",
     "output_type": "stream",
     "text": [
      "            Date  Mileage     Time\n",
      "0     2009-04-25     3.10    29:38\n",
      "1     2009-11-21     3.10    22:51\n",
      "2     2010-01-04     1.30    17:00\n",
      "3     2010-01-05     2.60    28:00\n",
      "4     2010-01-07     2.60    28:00\n",
      "5     2010-01-11     1.30      NaN\n",
      "6     2010-01-14     2.60    26:00\n",
      "7     2010-01-16     4.05    35:48\n",
      "8     2010-01-19     2.60    24:00\n",
      "9     2010-01-25     2.66    24:15\n",
      "...          ...      ...      ...\n",
      "2847  2021-08-26     6.32    47:42\n",
      "2848  2021-08-27     9.04  1:07:18\n",
      "2849  2021-08-28    13.11  1:31:38\n",
      "2850  2021-08-30    10.00  1:07:55\n",
      "2851  2021-08-31     6.01    42:53\n",
      "2852  2021-09-01     9.10  1:02:32\n",
      "2853  2021-09-02     6.00    42:15\n",
      "2854  2021-09-03     6.04    42:48\n",
      "2855  2021-09-04    14.00  1:30:02\n",
      "2856  2021-09-06    10.00  1:12:50\n",
      "\n",
      "[2857 rows x 3 columns]\n"
     ]
    }
   ],
   "source": [
    "pd.options.display.max_rows=20\n",
    "print(df)"
   ]
  },
  {
   "cell_type": "markdown",
   "metadata": {},
   "source": [
    "The main obstacle in creating a pace column is that it is not easy to do math with times in mm:ss format. So the \"Time\" column must be reformatted into minutes, with fractions of minutes put in decimal format (e.g. instead of \"29:38\", output = \"29.633\")."
   ]
  },
  {
   "cell_type": "code",
   "execution_count": 27,
   "metadata": {},
   "outputs": [
    {
     "name": "stdout",
     "output_type": "stream",
     "text": [
      "            Date  Mileage     Time\n",
      "0     2009-04-25      3.1    29:38\n",
      "1389  2016-11-27     10.0  1:10:51\n"
     ]
    }
   ],
   "source": [
    "print(df.iloc[[0,1389]])"
   ]
  },
  {
   "cell_type": "markdown",
   "metadata": {},
   "source": [
    "However, as can be seen above, some of my runs lasted longer than an hour and were thus input in h:mm:ss format. When I attempted to delimit the col by \":\", the \"1\" (hour) in row 1389 was put in the same column as the \"29\" (minutes) in row 0.\n",
    "\n",
    "To work around this problem, I computed a new col \"time_h\" with a standardized time format of \"h:mm:ss\" as seen below. I added an assert() statement to ensure that all data points in \"time_h\" started with a number and then a colon, as I had intended."
   ]
  },
  {
   "cell_type": "code",
   "execution_count": 28,
   "metadata": {},
   "outputs": [
    {
     "name": "stdout",
     "output_type": "stream",
     "text": [
      "            Date  Mileage     Time   time_h\n",
      "0     2009-04-25      3.1    29:38  0:29:38\n",
      "1389  2016-11-27     10.0  1:10:51  1:10:51\n"
     ]
    }
   ],
   "source": [
    "# added new col to standardize format of time var as \"h:mm:ss\"\n",
    "df[\"time_h\"] = pd.np.where(df.Time.str.contains('\\d:\\d\\d:\\d\\d', regex = True), df[\"Time\"], \"0:\" + df[\"Time\"])\n",
    "print(df.iloc[[0,1389]])\n",
    "\n",
    "testseries = df['time_h'].dropna()\n",
    "for i in testseries:\n",
    "    assert(re.match('\\d:*', i))"
   ]
  },
  {
   "cell_type": "markdown",
   "metadata": {},
   "source": [
    "Then I created a new dataframe where df['time_h'] was delimited by \":\" into three columns.\n",
    "\n",
    "Next, I merged the \"new\" dataframe with the \"df\" dataframe and called the resulting dataframe \"result\".\n",
    "\n",
    "Finally, I created \"df2\" from \"result\" and renamed the vars from \"new\" to be \"hours\", \"minutes\", and \"seconds\".\n",
    "\n",
    "These changes can be seen in the following three sections of code."
   ]
  },
  {
   "cell_type": "code",
   "execution_count": 29,
   "metadata": {},
   "outputs": [
    {
     "name": "stdout",
     "output_type": "stream",
     "text": [
      "        0    1    2\n",
      "0       0   29   38\n",
      "1       0   22   51\n",
      "2       0   17   00\n",
      "3       0   28   00\n",
      "4       0   28   00\n",
      "5     NaN  NaN  NaN\n",
      "6       0   26   00\n",
      "7       0   35   48\n",
      "8       0   24   00\n",
      "9       0   24   15\n",
      "...   ...  ...  ...\n",
      "2847    0   47   42\n",
      "2848    1   07   18\n",
      "2849    1   31   38\n",
      "2850    1   07   55\n",
      "2851    0   42   53\n",
      "2852    1   02   32\n",
      "2853    0   42   15\n",
      "2854    0   42   48\n",
      "2855    1   30   02\n",
      "2856    1   12   50\n",
      "\n",
      "[2857 rows x 3 columns]\n"
     ]
    }
   ],
   "source": [
    "# created new dataframe with \"time_h\" col expanded into hr, min, and sec vars\n",
    "new = df[\"time_h\"].str.split(pat = \":\", expand = True)\n",
    "print(new)"
   ]
  },
  {
   "cell_type": "code",
   "execution_count": 30,
   "metadata": {},
   "outputs": [
    {
     "name": "stdout",
     "output_type": "stream",
     "text": [
      "            Date  Mileage     Time   time_h    0    1    2\n",
      "0     2009-04-25     3.10    29:38  0:29:38    0   29   38\n",
      "1     2009-11-21     3.10    22:51  0:22:51    0   22   51\n",
      "2     2010-01-04     1.30    17:00  0:17:00    0   17   00\n",
      "3     2010-01-05     2.60    28:00  0:28:00    0   28   00\n",
      "4     2010-01-07     2.60    28:00  0:28:00    0   28   00\n",
      "5     2010-01-11     1.30      NaN      NaN  NaN  NaN  NaN\n",
      "6     2010-01-14     2.60    26:00  0:26:00    0   26   00\n",
      "7     2010-01-16     4.05    35:48  0:35:48    0   35   48\n",
      "8     2010-01-19     2.60    24:00  0:24:00    0   24   00\n",
      "9     2010-01-25     2.66    24:15  0:24:15    0   24   15\n",
      "...          ...      ...      ...      ...  ...  ...  ...\n",
      "2847  2021-08-26     6.32    47:42  0:47:42    0   47   42\n",
      "2848  2021-08-27     9.04  1:07:18  1:07:18    1   07   18\n",
      "2849  2021-08-28    13.11  1:31:38  1:31:38    1   31   38\n",
      "2850  2021-08-30    10.00  1:07:55  1:07:55    1   07   55\n",
      "2851  2021-08-31     6.01    42:53  0:42:53    0   42   53\n",
      "2852  2021-09-01     9.10  1:02:32  1:02:32    1   02   32\n",
      "2853  2021-09-02     6.00    42:15  0:42:15    0   42   15\n",
      "2854  2021-09-03     6.04    42:48  0:42:48    0   42   48\n",
      "2855  2021-09-04    14.00  1:30:02  1:30:02    1   30   02\n",
      "2856  2021-09-06    10.00  1:12:50  1:12:50    1   12   50\n",
      "\n",
      "[2857 rows x 7 columns]\n"
     ]
    }
   ],
   "source": [
    "result = pd.concat([df, new], axis=1, sort=False)\n",
    "print(result)"
   ]
  },
  {
   "cell_type": "code",
   "execution_count": 31,
   "metadata": {},
   "outputs": [
    {
     "name": "stdout",
     "output_type": "stream",
     "text": [
      "            Date  Mileage     Time time_corr hours minutes seconds\n",
      "0     2009-04-25     3.10    29:38   0:29:38     0      29      38\n",
      "1     2009-11-21     3.10    22:51   0:22:51     0      22      51\n",
      "2     2010-01-04     1.30    17:00   0:17:00     0      17      00\n",
      "3     2010-01-05     2.60    28:00   0:28:00     0      28      00\n",
      "4     2010-01-07     2.60    28:00   0:28:00     0      28      00\n",
      "5     2010-01-11     1.30      NaN       NaN   NaN     NaN     NaN\n",
      "6     2010-01-14     2.60    26:00   0:26:00     0      26      00\n",
      "7     2010-01-16     4.05    35:48   0:35:48     0      35      48\n",
      "8     2010-01-19     2.60    24:00   0:24:00     0      24      00\n",
      "9     2010-01-25     2.66    24:15   0:24:15     0      24      15\n",
      "...          ...      ...      ...       ...   ...     ...     ...\n",
      "2847  2021-08-26     6.32    47:42   0:47:42     0      47      42\n",
      "2848  2021-08-27     9.04  1:07:18   1:07:18     1      07      18\n",
      "2849  2021-08-28    13.11  1:31:38   1:31:38     1      31      38\n",
      "2850  2021-08-30    10.00  1:07:55   1:07:55     1      07      55\n",
      "2851  2021-08-31     6.01    42:53   0:42:53     0      42      53\n",
      "2852  2021-09-01     9.10  1:02:32   1:02:32     1      02      32\n",
      "2853  2021-09-02     6.00    42:15   0:42:15     0      42      15\n",
      "2854  2021-09-03     6.04    42:48   0:42:48     0      42      48\n",
      "2855  2021-09-04    14.00  1:30:02   1:30:02     1      30      02\n",
      "2856  2021-09-06    10.00  1:12:50   1:12:50     1      12      50\n",
      "\n",
      "[2857 rows x 7 columns]\n"
     ]
    }
   ],
   "source": [
    "df2 = result.rename(columns={\"time_h\": \"time_corr\", 0: \"hours\", 1: \"minutes\", 2: \"seconds\"})\n",
    "print(df2)"
   ]
  },
  {
   "cell_type": "markdown",
   "metadata": {},
   "source": [
    "To calculate pace, I needed to get my three time columns into numeric format.\n",
    "\n",
    "Then I needed to combine them back into one time variable in seconds."
   ]
  },
  {
   "cell_type": "code",
   "execution_count": 32,
   "metadata": {},
   "outputs": [],
   "source": [
    "df2['hours'] = pd.to_numeric(df2['hours'])\n",
    "df2['minutes'] = pd.to_numeric(df2['minutes'])\n",
    "df2['seconds'] = pd.to_numeric(df2['seconds'])"
   ]
  },
  {
   "cell_type": "code",
   "execution_count": 33,
   "metadata": {},
   "outputs": [
    {
     "name": "stdout",
     "output_type": "stream",
     "text": [
      "            Date  Mileage     Time time_corr  hours  minutes  seconds  time_s\n",
      "0     2009-04-25     3.10    29:38   0:29:38    0.0     29.0     38.0  1778.0\n",
      "1     2009-11-21     3.10    22:51   0:22:51    0.0     22.0     51.0  1371.0\n",
      "2     2010-01-04     1.30    17:00   0:17:00    0.0     17.0      0.0  1020.0\n",
      "3     2010-01-05     2.60    28:00   0:28:00    0.0     28.0      0.0  1680.0\n",
      "4     2010-01-07     2.60    28:00   0:28:00    0.0     28.0      0.0  1680.0\n",
      "5     2010-01-11     1.30      NaN       NaN    NaN      NaN      NaN     NaN\n",
      "6     2010-01-14     2.60    26:00   0:26:00    0.0     26.0      0.0  1560.0\n",
      "7     2010-01-16     4.05    35:48   0:35:48    0.0     35.0     48.0  2148.0\n",
      "8     2010-01-19     2.60    24:00   0:24:00    0.0     24.0      0.0  1440.0\n",
      "9     2010-01-25     2.66    24:15   0:24:15    0.0     24.0     15.0  1455.0\n",
      "...          ...      ...      ...       ...    ...      ...      ...     ...\n",
      "2847  2021-08-26     6.32    47:42   0:47:42    0.0     47.0     42.0  2862.0\n",
      "2848  2021-08-27     9.04  1:07:18   1:07:18    1.0      7.0     18.0  4038.0\n",
      "2849  2021-08-28    13.11  1:31:38   1:31:38    1.0     31.0     38.0  5498.0\n",
      "2850  2021-08-30    10.00  1:07:55   1:07:55    1.0      7.0     55.0  4075.0\n",
      "2851  2021-08-31     6.01    42:53   0:42:53    0.0     42.0     53.0  2573.0\n",
      "2852  2021-09-01     9.10  1:02:32   1:02:32    1.0      2.0     32.0  3752.0\n",
      "2853  2021-09-02     6.00    42:15   0:42:15    0.0     42.0     15.0  2535.0\n",
      "2854  2021-09-03     6.04    42:48   0:42:48    0.0     42.0     48.0  2568.0\n",
      "2855  2021-09-04    14.00  1:30:02   1:30:02    1.0     30.0      2.0  5402.0\n",
      "2856  2021-09-06    10.00  1:12:50   1:12:50    1.0     12.0     50.0  4370.0\n",
      "\n",
      "[2857 rows x 8 columns]\n"
     ]
    }
   ],
   "source": [
    "time_seconds = df2.hours*3600 + df2.minutes*60 + df2.seconds\n",
    "df2['time_s'] = time_seconds\n",
    "print(df2)"
   ]
  },
  {
   "cell_type": "markdown",
   "metadata": {},
   "source": [
    "At last, I was able to calculate pace (after converting the column for distance to numeric format). I first calculated it in seconds-per-mile.\n",
    "\n",
    "Then I created a new column in which the units for pace were a more meaningful minutes-per-mile."
   ]
  },
  {
   "cell_type": "code",
   "execution_count": 34,
   "metadata": {},
   "outputs": [
    {
     "name": "stdout",
     "output_type": "stream",
     "text": [
      "            Date  Mileage     Time time_corr  hours  minutes  seconds  time_s  \\\n",
      "0     2009-04-25     3.10    29:38   0:29:38    0.0     29.0     38.0  1778.0   \n",
      "1     2009-11-21     3.10    22:51   0:22:51    0.0     22.0     51.0  1371.0   \n",
      "2     2010-01-04     1.30    17:00   0:17:00    0.0     17.0      0.0  1020.0   \n",
      "3     2010-01-05     2.60    28:00   0:28:00    0.0     28.0      0.0  1680.0   \n",
      "4     2010-01-07     2.60    28:00   0:28:00    0.0     28.0      0.0  1680.0   \n",
      "5     2010-01-11     1.30      NaN       NaN    NaN      NaN      NaN     NaN   \n",
      "6     2010-01-14     2.60    26:00   0:26:00    0.0     26.0      0.0  1560.0   \n",
      "7     2010-01-16     4.05    35:48   0:35:48    0.0     35.0     48.0  2148.0   \n",
      "8     2010-01-19     2.60    24:00   0:24:00    0.0     24.0      0.0  1440.0   \n",
      "9     2010-01-25     2.66    24:15   0:24:15    0.0     24.0     15.0  1455.0   \n",
      "...          ...      ...      ...       ...    ...      ...      ...     ...   \n",
      "2847  2021-08-26     6.32    47:42   0:47:42    0.0     47.0     42.0  2862.0   \n",
      "2848  2021-08-27     9.04  1:07:18   1:07:18    1.0      7.0     18.0  4038.0   \n",
      "2849  2021-08-28    13.11  1:31:38   1:31:38    1.0     31.0     38.0  5498.0   \n",
      "2850  2021-08-30    10.00  1:07:55   1:07:55    1.0      7.0     55.0  4075.0   \n",
      "2851  2021-08-31     6.01    42:53   0:42:53    0.0     42.0     53.0  2573.0   \n",
      "2852  2021-09-01     9.10  1:02:32   1:02:32    1.0      2.0     32.0  3752.0   \n",
      "2853  2021-09-02     6.00    42:15   0:42:15    0.0     42.0     15.0  2535.0   \n",
      "2854  2021-09-03     6.04    42:48   0:42:48    0.0     42.0     48.0  2568.0   \n",
      "2855  2021-09-04    14.00  1:30:02   1:30:02    1.0     30.0      2.0  5402.0   \n",
      "2856  2021-09-06    10.00  1:12:50   1:12:50    1.0     12.0     50.0  4370.0   \n",
      "\n",
      "          pace_s  \n",
      "0     573.548387  \n",
      "1     442.258065  \n",
      "2     784.615385  \n",
      "3     646.153846  \n",
      "4     646.153846  \n",
      "5            NaN  \n",
      "6     600.000000  \n",
      "7     530.370370  \n",
      "8     553.846154  \n",
      "9     546.992481  \n",
      "...          ...  \n",
      "2847  452.848101  \n",
      "2848  446.681416  \n",
      "2849  419.374523  \n",
      "2850  407.500000  \n",
      "2851  428.119800  \n",
      "2852  412.307692  \n",
      "2853  422.500000  \n",
      "2854  425.165563  \n",
      "2855  385.857143  \n",
      "2856  437.000000  \n",
      "\n",
      "[2857 rows x 9 columns]\n"
     ]
    }
   ],
   "source": [
    "df2['Mileage'] = pd.to_numeric(df2['Mileage'])\n",
    "pace_s = df2.time_s / df2.Mileage\n",
    "df2['pace_s'] = pace_s\n",
    "print(df2)"
   ]
  },
  {
   "cell_type": "code",
   "execution_count": 35,
   "metadata": {},
   "outputs": [
    {
     "name": "stdout",
     "output_type": "stream",
     "text": [
      "            Date  Mileage     Time time_corr  hours  minutes  seconds  time_s  \\\n",
      "0     2009-04-25     3.10    29:38   0:29:38    0.0     29.0     38.0  1778.0   \n",
      "1     2009-11-21     3.10    22:51   0:22:51    0.0     22.0     51.0  1371.0   \n",
      "2     2010-01-04     1.30    17:00   0:17:00    0.0     17.0      0.0  1020.0   \n",
      "3     2010-01-05     2.60    28:00   0:28:00    0.0     28.0      0.0  1680.0   \n",
      "4     2010-01-07     2.60    28:00   0:28:00    0.0     28.0      0.0  1680.0   \n",
      "5     2010-01-11     1.30      NaN       NaN    NaN      NaN      NaN     NaN   \n",
      "6     2010-01-14     2.60    26:00   0:26:00    0.0     26.0      0.0  1560.0   \n",
      "7     2010-01-16     4.05    35:48   0:35:48    0.0     35.0     48.0  2148.0   \n",
      "8     2010-01-19     2.60    24:00   0:24:00    0.0     24.0      0.0  1440.0   \n",
      "9     2010-01-25     2.66    24:15   0:24:15    0.0     24.0     15.0  1455.0   \n",
      "...          ...      ...      ...       ...    ...      ...      ...     ...   \n",
      "2847  2021-08-26     6.32    47:42   0:47:42    0.0     47.0     42.0  2862.0   \n",
      "2848  2021-08-27     9.04  1:07:18   1:07:18    1.0      7.0     18.0  4038.0   \n",
      "2849  2021-08-28    13.11  1:31:38   1:31:38    1.0     31.0     38.0  5498.0   \n",
      "2850  2021-08-30    10.00  1:07:55   1:07:55    1.0      7.0     55.0  4075.0   \n",
      "2851  2021-08-31     6.01    42:53   0:42:53    0.0     42.0     53.0  2573.0   \n",
      "2852  2021-09-01     9.10  1:02:32   1:02:32    1.0      2.0     32.0  3752.0   \n",
      "2853  2021-09-02     6.00    42:15   0:42:15    0.0     42.0     15.0  2535.0   \n",
      "2854  2021-09-03     6.04    42:48   0:42:48    0.0     42.0     48.0  2568.0   \n",
      "2855  2021-09-04    14.00  1:30:02   1:30:02    1.0     30.0      2.0  5402.0   \n",
      "2856  2021-09-06    10.00  1:12:50   1:12:50    1.0     12.0     50.0  4370.0   \n",
      "\n",
      "          pace_s   pace_min  \n",
      "0     573.548387   9.559140  \n",
      "1     442.258065   7.370968  \n",
      "2     784.615385  13.076923  \n",
      "3     646.153846  10.769231  \n",
      "4     646.153846  10.769231  \n",
      "5            NaN        NaN  \n",
      "6     600.000000  10.000000  \n",
      "7     530.370370   8.839506  \n",
      "8     553.846154   9.230769  \n",
      "9     546.992481   9.116541  \n",
      "...          ...        ...  \n",
      "2847  452.848101   7.547468  \n",
      "2848  446.681416   7.444690  \n",
      "2849  419.374523   6.989575  \n",
      "2850  407.500000   6.791667  \n",
      "2851  428.119800   7.135330  \n",
      "2852  412.307692   6.871795  \n",
      "2853  422.500000   7.041667  \n",
      "2854  425.165563   7.086093  \n",
      "2855  385.857143   6.430952  \n",
      "2856  437.000000   7.283333  \n",
      "\n",
      "[2857 rows x 10 columns]\n"
     ]
    }
   ],
   "source": [
    "pace_min = df2.pace_s / 60\n",
    "df2['pace_min'] = pace_min\n",
    "print(df2)"
   ]
  },
  {
   "cell_type": "markdown",
   "metadata": {},
   "source": [
    "I noticed that, due to some input errors in the original excel file, the formatting for all values in the \"Date\" column between the years 2012 and 2014 included the time of day (which, as I had never input that, ended up as a bunch of zeros at the end of the cell, as can be seen below in row 800).\n",
    "\n",
    "I fixed this by changing the Date column to string format and then keeping only the first ten characters in each cell of that column."
   ]
  },
  {
   "cell_type": "code",
   "execution_count": 36,
   "metadata": {},
   "outputs": [
    {
     "name": "stdout",
     "output_type": "stream",
     "text": [
      "                    Date  Mileage   Time time_corr  hours  minutes  seconds  \\\n",
      "0             2009-04-25     3.10  29:38   0:29:38    0.0     29.0     38.0   \n",
      "800  2014-12-16 00:00:00     4.58  36:59   0:36:59    0.0     36.0     59.0   \n",
      "\n",
      "     time_s      pace_s  pace_min  \n",
      "0    1778.0  573.548387  9.559140  \n",
      "800  2219.0  484.497817  8.074964  \n"
     ]
    }
   ],
   "source": [
    "print(df2.iloc[[0,800]])"
   ]
  },
  {
   "cell_type": "code",
   "execution_count": 37,
   "metadata": {},
   "outputs": [
    {
     "name": "stdout",
     "output_type": "stream",
     "text": [
      "            Date  Mileage     Time time_corr  hours  minutes  seconds  time_s  \\\n",
      "0     2009-04-25     3.10    29:38   0:29:38    0.0     29.0     38.0  1778.0   \n",
      "1     2009-11-21     3.10    22:51   0:22:51    0.0     22.0     51.0  1371.0   \n",
      "2     2010-01-04     1.30    17:00   0:17:00    0.0     17.0      0.0  1020.0   \n",
      "3     2010-01-05     2.60    28:00   0:28:00    0.0     28.0      0.0  1680.0   \n",
      "4     2010-01-07     2.60    28:00   0:28:00    0.0     28.0      0.0  1680.0   \n",
      "5     2010-01-11     1.30      NaN       NaN    NaN      NaN      NaN     NaN   \n",
      "6     2010-01-14     2.60    26:00   0:26:00    0.0     26.0      0.0  1560.0   \n",
      "7     2010-01-16     4.05    35:48   0:35:48    0.0     35.0     48.0  2148.0   \n",
      "8     2010-01-19     2.60    24:00   0:24:00    0.0     24.0      0.0  1440.0   \n",
      "9     2010-01-25     2.66    24:15   0:24:15    0.0     24.0     15.0  1455.0   \n",
      "...          ...      ...      ...       ...    ...      ...      ...     ...   \n",
      "2847  2021-08-26     6.32    47:42   0:47:42    0.0     47.0     42.0  2862.0   \n",
      "2848  2021-08-27     9.04  1:07:18   1:07:18    1.0      7.0     18.0  4038.0   \n",
      "2849  2021-08-28    13.11  1:31:38   1:31:38    1.0     31.0     38.0  5498.0   \n",
      "2850  2021-08-30    10.00  1:07:55   1:07:55    1.0      7.0     55.0  4075.0   \n",
      "2851  2021-08-31     6.01    42:53   0:42:53    0.0     42.0     53.0  2573.0   \n",
      "2852  2021-09-01     9.10  1:02:32   1:02:32    1.0      2.0     32.0  3752.0   \n",
      "2853  2021-09-02     6.00    42:15   0:42:15    0.0     42.0     15.0  2535.0   \n",
      "2854  2021-09-03     6.04    42:48   0:42:48    0.0     42.0     48.0  2568.0   \n",
      "2855  2021-09-04    14.00  1:30:02   1:30:02    1.0     30.0      2.0  5402.0   \n",
      "2856  2021-09-06    10.00  1:12:50   1:12:50    1.0     12.0     50.0  4370.0   \n",
      "\n",
      "          pace_s   pace_min  \n",
      "0     573.548387   9.559140  \n",
      "1     442.258065   7.370968  \n",
      "2     784.615385  13.076923  \n",
      "3     646.153846  10.769231  \n",
      "4     646.153846  10.769231  \n",
      "5            NaN        NaN  \n",
      "6     600.000000  10.000000  \n",
      "7     530.370370   8.839506  \n",
      "8     553.846154   9.230769  \n",
      "9     546.992481   9.116541  \n",
      "...          ...        ...  \n",
      "2847  452.848101   7.547468  \n",
      "2848  446.681416   7.444690  \n",
      "2849  419.374523   6.989575  \n",
      "2850  407.500000   6.791667  \n",
      "2851  428.119800   7.135330  \n",
      "2852  412.307692   6.871795  \n",
      "2853  422.500000   7.041667  \n",
      "2854  425.165563   7.086093  \n",
      "2855  385.857143   6.430952  \n",
      "2856  437.000000   7.283333  \n",
      "\n",
      "[2857 rows x 10 columns]\n"
     ]
    }
   ],
   "source": [
    "df2.Date = df2.Date.astype(str)\n",
    "df2['Date'] = df2['Date'].str[:10]\n",
    "print(df2)"
   ]
  },
  {
   "cell_type": "markdown",
   "metadata": {},
   "source": [
    "As a final step before completing the data management process, I created a new dataframe df3 which subset df2 into only the columns I needed. Then I wanted to view the entire dataset to ensure that there were no hidden mistakes."
   ]
  },
  {
   "cell_type": "code",
   "execution_count": 38,
   "metadata": {},
   "outputs": [
    {
     "name": "stdout",
     "output_type": "stream",
     "text": [
      "            Date  Mileage time_corr  pace_min\n",
      "2847  2021-08-26     6.32   0:47:42  7.547468\n",
      "2848  2021-08-27     9.04   1:07:18  7.444690\n",
      "2849  2021-08-28    13.11   1:31:38  6.989575\n",
      "2850  2021-08-30    10.00   1:07:55  6.791667\n",
      "2851  2021-08-31     6.01   0:42:53  7.135330\n",
      "2852  2021-09-01     9.10   1:02:32  6.871795\n",
      "2853  2021-09-02     6.00   0:42:15  7.041667\n",
      "2854  2021-09-03     6.04   0:42:48  7.086093\n",
      "2855  2021-09-04    14.00   1:30:02  6.430952\n",
      "2856  2021-09-06    10.00   1:12:50  7.283333\n"
     ]
    }
   ],
   "source": [
    "df3 = df2[['Date','Mileage','time_corr','pace_min']]\n",
    "pd.options.display.max_rows=3000\n",
    "#print(df3)\n",
    "print(df3.tail(10))\n",
    "pd.options.display.max_rows=20"
   ]
  },
  {
   "cell_type": "markdown",
   "metadata": {},
   "source": [
    "Finally, I exported df3 to a csv so that I have externally saved changes. This csv will be read in at the beginning of the df_visualization and df_analysis ipynb's."
   ]
  },
  {
   "cell_type": "code",
   "execution_count": 39,
   "metadata": {},
   "outputs": [],
   "source": [
    "df3.to_csv(\"clean.csv\", index=False)"
   ]
  }
 ],
 "metadata": {
  "kernelspec": {
   "display_name": "Python 3",
   "language": "python",
   "name": "python3"
  },
  "language_info": {
   "codemirror_mode": {
    "name": "ipython",
    "version": 3
   },
   "file_extension": ".py",
   "mimetype": "text/x-python",
   "name": "python",
   "nbconvert_exporter": "python",
   "pygments_lexer": "ipython3",
   "version": "3.7.3"
  }
 },
 "nbformat": 4,
 "nbformat_minor": 4
}
